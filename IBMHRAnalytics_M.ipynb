{
 "cells": [
  {
   "cell_type": "markdown",
   "metadata": {},
   "source": [
    "## Comprehensive data analysis and predictive modeling with IBM HR Analytics data set . \n",
    "\n",
    "### Extensive hyperparameter tuning for RandomForest and XGBoost"
   ]
  },
  {
   "cell_type": "markdown",
   "metadata": {},
   "source": [
    "### Introduction\n",
    "\n",
    "The data set was obtained from Kaggle.\n",
    "  [IBM HR Analytics Data Set](https://www.kaggle.com/pavansubhasht/ibm-hr-analytics-attrition-dataset)  \n",
    "  The data set was uploaded by [Pavan Subhash](https://www.kaggle.com/pavansubhasht)  \n",
    "  \n",
    "  This is a fictional data set created by IBM data scientists.\n",
    "  Such a data set will help us uncover the factors that lead to an employee leaving the company.  \n",
    "  This is binary classification problem, and I have used Logistic Regression, RandomForest, and XGBoost to build predictive  models.\n",
    "  Extensive hyperparameter tuning has been performed for all the models.  \n",
    "  More there is class imbalance in the data set.  \n",
    "  I have used SMOTE ( oversampling the minority class), and also created a balanced data set that contained equal number of 1s and 0s. The The predictive models were built separately on these datasets.  \n",
    "  \n",
    "### Acknowledgement\n",
    "\n",
    "  Initially I studied the notebook [Employee attrition via Ensemble tree-based methods](https://www.kaggle.com/arthurtok/employee-attrition-via-ensemble-tree-based-methods) by [Anisotropic](https://www.kaggle.com/arthurtok)"
   ]
  },
  {
   "cell_type": "code",
   "execution_count": 1,
   "metadata": {},
   "outputs": [
    {
     "name": "stdout",
     "output_type": "stream",
     "text": [
      "Collecting imbalanced-learn\n",
      "\u001b[?25l  Downloading https://files.pythonhosted.org/packages/e5/4c/7557e1c2e791bd43878f8c82065bddc5798252084f26ef44527c02262af1/imbalanced_learn-0.4.3-py3-none-any.whl (166kB)\n",
      "\u001b[K    100% |████████████████████████████████| 174kB 12.7MB/s \n",
      "\u001b[?25hRequirement already satisfied: numpy>=1.8.2 in /usr/local/lib/python3.6/site-packages (from imbalanced-learn) (1.15.1)\n",
      "Requirement already satisfied: scipy>=0.13.3 in /usr/local/lib/python3.6/site-packages (from imbalanced-learn) (1.1.0)\n",
      "Collecting scikit-learn>=0.20 (from imbalanced-learn)\n",
      "\u001b[?25l  Downloading https://files.pythonhosted.org/packages/85/04/49633f490f726da6e454fddc8e938bbb5bfed2001681118d3814c219b723/scikit_learn-0.21.2-cp36-cp36m-manylinux1_x86_64.whl (6.7MB)\n",
      "\u001b[K    100% |████████████████████████████████| 6.7MB 7.9MB/s \n",
      "\u001b[?25hCollecting joblib>=0.11 (from scikit-learn>=0.20->imbalanced-learn)\n",
      "\u001b[?25l  Downloading https://files.pythonhosted.org/packages/cd/c1/50a758e8247561e58cb87305b1e90b171b8c767b15b12a1734001f41d356/joblib-0.13.2-py2.py3-none-any.whl (278kB)\n",
      "\u001b[K    100% |████████████████████████████████| 286kB 51.8MB/s \n",
      "\u001b[31mscikit-umfpack 0.3.2 has requirement numpy>=1.15.3, but you'll have numpy 1.15.1 which is incompatible.\u001b[0m\n",
      "\u001b[31mmenpo 0.8.1 has requirement matplotlib<2.0,>=1.4, but you'll have matplotlib 2.2.3 which is incompatible.\u001b[0m\n",
      "\u001b[31mmenpo 0.8.1 has requirement pillow<5.0,>=3.0, but you'll have pillow 5.2.0 which is incompatible.\u001b[0m\n",
      "\u001b[31mmenpo 0.8.1 has requirement scipy<1.0,>=0.16, but you'll have scipy 1.1.0 which is incompatible.\u001b[0m\n",
      "\u001b[31mfastai 1.0.42 has requirement torch>=1.0.0, but you'll have torch 0.4.1 which is incompatible.\u001b[0m\n",
      "\u001b[?25hInstalling collected packages: joblib, scikit-learn, imbalanced-learn\n",
      "  Found existing installation: scikit-learn 0.19.2\n",
      "    Uninstalling scikit-learn-0.19.2:\n",
      "      Successfully uninstalled scikit-learn-0.19.2\n",
      "Successfully installed imbalanced-learn-0.4.3 joblib-0.13.2 scikit-learn-0.21.2\n",
      "\u001b[33mYou are using pip version 10.0.1, however version 19.1.1 is available.\n",
      "You should consider upgrading via the 'pip install --upgrade pip' command.\u001b[0m\n",
      "Requirement already satisfied: xgboost in /usr/local/lib/python3.6/site-packages/xgboost-0.81-py3.6.egg (0.81)\n",
      "Requirement already satisfied: numpy in /usr/local/lib/python3.6/site-packages (from xgboost) (1.15.1)\n",
      "Requirement already satisfied: scipy in /usr/local/lib/python3.6/site-packages (from xgboost) (1.1.0)\n",
      "\u001b[31mscikit-umfpack 0.3.2 has requirement numpy>=1.15.3, but you'll have numpy 1.15.1 which is incompatible.\u001b[0m\n",
      "\u001b[31mmenpo 0.8.1 has requirement matplotlib<2.0,>=1.4, but you'll have matplotlib 2.2.3 which is incompatible.\u001b[0m\n",
      "\u001b[31mmenpo 0.8.1 has requirement pillow<5.0,>=3.0, but you'll have pillow 5.2.0 which is incompatible.\u001b[0m\n",
      "\u001b[31mmenpo 0.8.1 has requirement scipy<1.0,>=0.16, but you'll have scipy 1.1.0 which is incompatible.\u001b[0m\n",
      "\u001b[31mfastai 1.0.42 has requirement torch>=1.0.0, but you'll have torch 0.4.1 which is incompatible.\u001b[0m\n",
      "\u001b[33mYou are using pip version 10.0.1, however version 19.1.1 is available.\n",
      "You should consider upgrading via the 'pip install --upgrade pip' command.\u001b[0m\n"
     ]
    },
    {
     "name": "stderr",
     "output_type": "stream",
     "text": [
      "/usr/local/lib/python3.6/site-packages/sklearn/externals/six.py:31: DeprecationWarning: The module is deprecated in version 0.21 and will be removed in version 0.23 since we've dropped support for Python 2.7. Please rely on the official version of six (https://pypi.org/project/six/).\n",
      "  \"(https://pypi.org/project/six/).\", DeprecationWarning)\n"
     ]
    }
   ],
   "source": [
    "! pip install imbalanced-learn\n",
    "! pip install xgboost\n",
    "\n",
    "import numpy as np\n",
    "import pandas as pd \n",
    "import matplotlib.pyplot as plt\n",
    "import seaborn as sns\n",
    "%matplotlib inline\n",
    "\n",
    "from sklearn.ensemble import RandomForestClassifier\n",
    "from sklearn.linear_model import LogisticRegression\n",
    "from imblearn.over_sampling import SMOTE\n",
    "import xgboost\n",
    "\n",
    "import warnings\n",
    "warnings.filterwarnings('ignore')"
   ]
  },
  {
   "cell_type": "code",
   "execution_count": 2,
   "metadata": {},
   "outputs": [
    {
     "data": {
      "text/html": [
       "<script type=\"text/javascript\">window.PlotlyConfig = {MathJaxConfig: 'local'};</script><script type=\"text/javascript\">if (window.MathJax) {MathJax.Hub.Config({SVG: {font: \"STIX-Web\"}});}</script><script>requirejs.config({paths: { 'plotly': ['https://cdn.plot.ly/plotly-latest.min']},});if(!window._Plotly) {require(['plotly'],function(plotly) {window._Plotly=plotly;});}</script>"
      ],
      "text/vnd.plotly.v1+html": [
       "<script type=\"text/javascript\">window.PlotlyConfig = {MathJaxConfig: 'local'};</script><script type=\"text/javascript\">if (window.MathJax) {MathJax.Hub.Config({SVG: {font: \"STIX-Web\"}});}</script><script>requirejs.config({paths: { 'plotly': ['https://cdn.plot.ly/plotly-latest.min']},});if(!window._Plotly) {require(['plotly'],function(plotly) {window._Plotly=plotly;});}</script>"
      ]
     },
     "metadata": {},
     "output_type": "display_data"
    }
   ],
   "source": [
    "import plotly.offline as py\n",
    "py.init_notebook_mode(connected=True)\n",
    "import plotly.graph_objs as go"
   ]
  },
  {
   "cell_type": "code",
   "execution_count": 3,
   "metadata": {},
   "outputs": [],
   "source": [
    "hr_data=pd.read_csv('WA_Fn-UseC_-HR-Employee-Attrition.csv')"
   ]
  },
  {
   "cell_type": "code",
   "execution_count": 4,
   "metadata": {},
   "outputs": [
    {
     "data": {
      "text/html": [
       "<div>\n",
       "<style scoped>\n",
       "    .dataframe tbody tr th:only-of-type {\n",
       "        vertical-align: middle;\n",
       "    }\n",
       "\n",
       "    .dataframe tbody tr th {\n",
       "        vertical-align: top;\n",
       "    }\n",
       "\n",
       "    .dataframe thead th {\n",
       "        text-align: right;\n",
       "    }\n",
       "</style>\n",
       "<table border=\"1\" class=\"dataframe\">\n",
       "  <thead>\n",
       "    <tr style=\"text-align: right;\">\n",
       "      <th></th>\n",
       "      <th>Age</th>\n",
       "      <th>Attrition</th>\n",
       "      <th>BusinessTravel</th>\n",
       "      <th>DailyRate</th>\n",
       "      <th>Department</th>\n",
       "      <th>DistanceFromHome</th>\n",
       "      <th>Education</th>\n",
       "      <th>EducationField</th>\n",
       "      <th>EmployeeCount</th>\n",
       "      <th>EmployeeNumber</th>\n",
       "      <th>...</th>\n",
       "      <th>RelationshipSatisfaction</th>\n",
       "      <th>StandardHours</th>\n",
       "      <th>StockOptionLevel</th>\n",
       "      <th>TotalWorkingYears</th>\n",
       "      <th>TrainingTimesLastYear</th>\n",
       "      <th>WorkLifeBalance</th>\n",
       "      <th>YearsAtCompany</th>\n",
       "      <th>YearsInCurrentRole</th>\n",
       "      <th>YearsSinceLastPromotion</th>\n",
       "      <th>YearsWithCurrManager</th>\n",
       "    </tr>\n",
       "  </thead>\n",
       "  <tbody>\n",
       "    <tr>\n",
       "      <th>0</th>\n",
       "      <td>41</td>\n",
       "      <td>Yes</td>\n",
       "      <td>Travel_Rarely</td>\n",
       "      <td>1102</td>\n",
       "      <td>Sales</td>\n",
       "      <td>1</td>\n",
       "      <td>2</td>\n",
       "      <td>Life Sciences</td>\n",
       "      <td>1</td>\n",
       "      <td>1</td>\n",
       "      <td>...</td>\n",
       "      <td>1</td>\n",
       "      <td>80</td>\n",
       "      <td>0</td>\n",
       "      <td>8</td>\n",
       "      <td>0</td>\n",
       "      <td>1</td>\n",
       "      <td>6</td>\n",
       "      <td>4</td>\n",
       "      <td>0</td>\n",
       "      <td>5</td>\n",
       "    </tr>\n",
       "    <tr>\n",
       "      <th>1</th>\n",
       "      <td>49</td>\n",
       "      <td>No</td>\n",
       "      <td>Travel_Frequently</td>\n",
       "      <td>279</td>\n",
       "      <td>Research &amp; Development</td>\n",
       "      <td>8</td>\n",
       "      <td>1</td>\n",
       "      <td>Life Sciences</td>\n",
       "      <td>1</td>\n",
       "      <td>2</td>\n",
       "      <td>...</td>\n",
       "      <td>4</td>\n",
       "      <td>80</td>\n",
       "      <td>1</td>\n",
       "      <td>10</td>\n",
       "      <td>3</td>\n",
       "      <td>3</td>\n",
       "      <td>10</td>\n",
       "      <td>7</td>\n",
       "      <td>1</td>\n",
       "      <td>7</td>\n",
       "    </tr>\n",
       "    <tr>\n",
       "      <th>2</th>\n",
       "      <td>37</td>\n",
       "      <td>Yes</td>\n",
       "      <td>Travel_Rarely</td>\n",
       "      <td>1373</td>\n",
       "      <td>Research &amp; Development</td>\n",
       "      <td>2</td>\n",
       "      <td>2</td>\n",
       "      <td>Other</td>\n",
       "      <td>1</td>\n",
       "      <td>4</td>\n",
       "      <td>...</td>\n",
       "      <td>2</td>\n",
       "      <td>80</td>\n",
       "      <td>0</td>\n",
       "      <td>7</td>\n",
       "      <td>3</td>\n",
       "      <td>3</td>\n",
       "      <td>0</td>\n",
       "      <td>0</td>\n",
       "      <td>0</td>\n",
       "      <td>0</td>\n",
       "    </tr>\n",
       "    <tr>\n",
       "      <th>3</th>\n",
       "      <td>33</td>\n",
       "      <td>No</td>\n",
       "      <td>Travel_Frequently</td>\n",
       "      <td>1392</td>\n",
       "      <td>Research &amp; Development</td>\n",
       "      <td>3</td>\n",
       "      <td>4</td>\n",
       "      <td>Life Sciences</td>\n",
       "      <td>1</td>\n",
       "      <td>5</td>\n",
       "      <td>...</td>\n",
       "      <td>3</td>\n",
       "      <td>80</td>\n",
       "      <td>0</td>\n",
       "      <td>8</td>\n",
       "      <td>3</td>\n",
       "      <td>3</td>\n",
       "      <td>8</td>\n",
       "      <td>7</td>\n",
       "      <td>3</td>\n",
       "      <td>0</td>\n",
       "    </tr>\n",
       "    <tr>\n",
       "      <th>4</th>\n",
       "      <td>27</td>\n",
       "      <td>No</td>\n",
       "      <td>Travel_Rarely</td>\n",
       "      <td>591</td>\n",
       "      <td>Research &amp; Development</td>\n",
       "      <td>2</td>\n",
       "      <td>1</td>\n",
       "      <td>Medical</td>\n",
       "      <td>1</td>\n",
       "      <td>7</td>\n",
       "      <td>...</td>\n",
       "      <td>4</td>\n",
       "      <td>80</td>\n",
       "      <td>1</td>\n",
       "      <td>6</td>\n",
       "      <td>3</td>\n",
       "      <td>3</td>\n",
       "      <td>2</td>\n",
       "      <td>2</td>\n",
       "      <td>2</td>\n",
       "      <td>2</td>\n",
       "    </tr>\n",
       "  </tbody>\n",
       "</table>\n",
       "<p>5 rows × 35 columns</p>\n",
       "</div>"
      ],
      "text/plain": [
       "   Age Attrition     BusinessTravel  DailyRate              Department  \\\n",
       "0   41       Yes      Travel_Rarely       1102                   Sales   \n",
       "1   49        No  Travel_Frequently        279  Research & Development   \n",
       "2   37       Yes      Travel_Rarely       1373  Research & Development   \n",
       "3   33        No  Travel_Frequently       1392  Research & Development   \n",
       "4   27        No      Travel_Rarely        591  Research & Development   \n",
       "\n",
       "   DistanceFromHome  Education EducationField  EmployeeCount  EmployeeNumber  \\\n",
       "0                 1          2  Life Sciences              1               1   \n",
       "1                 8          1  Life Sciences              1               2   \n",
       "2                 2          2          Other              1               4   \n",
       "3                 3          4  Life Sciences              1               5   \n",
       "4                 2          1        Medical              1               7   \n",
       "\n",
       "           ...           RelationshipSatisfaction StandardHours  \\\n",
       "0          ...                                  1            80   \n",
       "1          ...                                  4            80   \n",
       "2          ...                                  2            80   \n",
       "3          ...                                  3            80   \n",
       "4          ...                                  4            80   \n",
       "\n",
       "   StockOptionLevel  TotalWorkingYears  TrainingTimesLastYear WorkLifeBalance  \\\n",
       "0                 0                  8                      0               1   \n",
       "1                 1                 10                      3               3   \n",
       "2                 0                  7                      3               3   \n",
       "3                 0                  8                      3               3   \n",
       "4                 1                  6                      3               3   \n",
       "\n",
       "   YearsAtCompany YearsInCurrentRole  YearsSinceLastPromotion  \\\n",
       "0               6                  4                        0   \n",
       "1              10                  7                        1   \n",
       "2               0                  0                        0   \n",
       "3               8                  7                        3   \n",
       "4               2                  2                        2   \n",
       "\n",
       "   YearsWithCurrManager  \n",
       "0                     5  \n",
       "1                     7  \n",
       "2                     0  \n",
       "3                     0  \n",
       "4                     2  \n",
       "\n",
       "[5 rows x 35 columns]"
      ]
     },
     "execution_count": 4,
     "metadata": {},
     "output_type": "execute_result"
    }
   ],
   "source": [
    "hr_data.head()"
   ]
  },
  {
   "cell_type": "code",
   "execution_count": 5,
   "metadata": {},
   "outputs": [
    {
     "name": "stdout",
     "output_type": "stream",
     "text": [
      "<class 'pandas.core.frame.DataFrame'>\n",
      "RangeIndex: 1470 entries, 0 to 1469\n",
      "Data columns (total 35 columns):\n",
      "Age                         1470 non-null int64\n",
      "Attrition                   1470 non-null object\n",
      "BusinessTravel              1470 non-null object\n",
      "DailyRate                   1470 non-null int64\n",
      "Department                  1470 non-null object\n",
      "DistanceFromHome            1470 non-null int64\n",
      "Education                   1470 non-null int64\n",
      "EducationField              1470 non-null object\n",
      "EmployeeCount               1470 non-null int64\n",
      "EmployeeNumber              1470 non-null int64\n",
      "EnvironmentSatisfaction     1470 non-null int64\n",
      "Gender                      1470 non-null object\n",
      "HourlyRate                  1470 non-null int64\n",
      "JobInvolvement              1470 non-null int64\n",
      "JobLevel                    1470 non-null int64\n",
      "JobRole                     1470 non-null object\n",
      "JobSatisfaction             1470 non-null int64\n",
      "MaritalStatus               1470 non-null object\n",
      "MonthlyIncome               1470 non-null int64\n",
      "MonthlyRate                 1470 non-null int64\n",
      "NumCompaniesWorked          1470 non-null int64\n",
      "Over18                      1470 non-null object\n",
      "OverTime                    1470 non-null object\n",
      "PercentSalaryHike           1470 non-null int64\n",
      "PerformanceRating           1470 non-null int64\n",
      "RelationshipSatisfaction    1470 non-null int64\n",
      "StandardHours               1470 non-null int64\n",
      "StockOptionLevel            1470 non-null int64\n",
      "TotalWorkingYears           1470 non-null int64\n",
      "TrainingTimesLastYear       1470 non-null int64\n",
      "WorkLifeBalance             1470 non-null int64\n",
      "YearsAtCompany              1470 non-null int64\n",
      "YearsInCurrentRole          1470 non-null int64\n",
      "YearsSinceLastPromotion     1470 non-null int64\n",
      "YearsWithCurrManager        1470 non-null int64\n",
      "dtypes: int64(26), object(9)\n",
      "memory usage: 402.0+ KB\n"
     ]
    }
   ],
   "source": [
    "hr_data.info()"
   ]
  },
  {
   "cell_type": "code",
   "execution_count": 6,
   "metadata": {},
   "outputs": [],
   "source": [
    "num=hr_data.select_dtypes(include=['number']).columns.values"
   ]
  },
  {
   "cell_type": "code",
   "execution_count": 7,
   "metadata": {},
   "outputs": [
    {
     "data": {
      "text/plain": [
       "array(['Age', 'DailyRate', 'DistanceFromHome', 'Education',\n",
       "       'EmployeeCount', 'EmployeeNumber', 'EnvironmentSatisfaction',\n",
       "       'HourlyRate', 'JobInvolvement', 'JobLevel', 'JobSatisfaction',\n",
       "       'MonthlyIncome', 'MonthlyRate', 'NumCompaniesWorked',\n",
       "       'PercentSalaryHike', 'PerformanceRating',\n",
       "       'RelationshipSatisfaction', 'StandardHours', 'StockOptionLevel',\n",
       "       'TotalWorkingYears', 'TrainingTimesLastYear', 'WorkLifeBalance',\n",
       "       'YearsAtCompany', 'YearsInCurrentRole', 'YearsSinceLastPromotion',\n",
       "       'YearsWithCurrManager'], dtype=object)"
      ]
     },
     "execution_count": 7,
     "metadata": {},
     "output_type": "execute_result"
    }
   ],
   "source": [
    "num"
   ]
  },
  {
   "cell_type": "code",
   "execution_count": 8,
   "metadata": {},
   "outputs": [],
   "source": [
    "num=num.tolist()"
   ]
  },
  {
   "cell_type": "code",
   "execution_count": 9,
   "metadata": {},
   "outputs": [
    {
     "data": {
      "text/plain": [
       "list"
      ]
     },
     "execution_count": 9,
     "metadata": {},
     "output_type": "execute_result"
    }
   ],
   "source": [
    "type(num)"
   ]
  },
  {
   "cell_type": "code",
   "execution_count": 10,
   "metadata": {},
   "outputs": [
    {
     "data": {
      "text/plain": [
       "['Age',\n",
       " 'DailyRate',\n",
       " 'DistanceFromHome',\n",
       " 'Education',\n",
       " 'EmployeeCount',\n",
       " 'EmployeeNumber',\n",
       " 'EnvironmentSatisfaction',\n",
       " 'HourlyRate',\n",
       " 'JobInvolvement',\n",
       " 'JobLevel',\n",
       " 'JobSatisfaction',\n",
       " 'MonthlyIncome',\n",
       " 'MonthlyRate',\n",
       " 'NumCompaniesWorked',\n",
       " 'PercentSalaryHike',\n",
       " 'PerformanceRating',\n",
       " 'RelationshipSatisfaction',\n",
       " 'StandardHours',\n",
       " 'StockOptionLevel',\n",
       " 'TotalWorkingYears',\n",
       " 'TrainingTimesLastYear',\n",
       " 'WorkLifeBalance',\n",
       " 'YearsAtCompany',\n",
       " 'YearsInCurrentRole',\n",
       " 'YearsSinceLastPromotion',\n",
       " 'YearsWithCurrManager']"
      ]
     },
     "execution_count": 10,
     "metadata": {},
     "output_type": "execute_result"
    }
   ],
   "source": [
    "num"
   ]
  },
  {
   "cell_type": "code",
   "execution_count": 11,
   "metadata": {},
   "outputs": [],
   "source": [
    "num=[var for var in num if var not in ['EmployeeNumber']]"
   ]
  },
  {
   "cell_type": "code",
   "execution_count": 12,
   "metadata": {},
   "outputs": [
    {
     "data": {
      "text/plain": [
       "['Age',\n",
       " 'DailyRate',\n",
       " 'DistanceFromHome',\n",
       " 'Education',\n",
       " 'EmployeeCount',\n",
       " 'EnvironmentSatisfaction',\n",
       " 'HourlyRate',\n",
       " 'JobInvolvement',\n",
       " 'JobLevel',\n",
       " 'JobSatisfaction',\n",
       " 'MonthlyIncome',\n",
       " 'MonthlyRate',\n",
       " 'NumCompaniesWorked',\n",
       " 'PercentSalaryHike',\n",
       " 'PerformanceRating',\n",
       " 'RelationshipSatisfaction',\n",
       " 'StandardHours',\n",
       " 'StockOptionLevel',\n",
       " 'TotalWorkingYears',\n",
       " 'TrainingTimesLastYear',\n",
       " 'WorkLifeBalance',\n",
       " 'YearsAtCompany',\n",
       " 'YearsInCurrentRole',\n",
       " 'YearsSinceLastPromotion',\n",
       " 'YearsWithCurrManager']"
      ]
     },
     "execution_count": 12,
     "metadata": {},
     "output_type": "execute_result"
    }
   ],
   "source": [
    "num"
   ]
  },
  {
   "cell_type": "code",
   "execution_count": 13,
   "metadata": {},
   "outputs": [],
   "source": [
    "cat=hr_data.select_dtypes(exclude=['number']).columns.values"
   ]
  },
  {
   "cell_type": "code",
   "execution_count": 14,
   "metadata": {},
   "outputs": [
    {
     "data": {
      "text/plain": [
       "array(['Attrition', 'BusinessTravel', 'Department', 'EducationField',\n",
       "       'Gender', 'JobRole', 'MaritalStatus', 'Over18', 'OverTime'],\n",
       "      dtype=object)"
      ]
     },
     "execution_count": 14,
     "metadata": {},
     "output_type": "execute_result"
    }
   ],
   "source": [
    "cat"
   ]
  },
  {
   "cell_type": "code",
   "execution_count": 15,
   "metadata": {},
   "outputs": [],
   "source": [
    "cat=cat.tolist()"
   ]
  },
  {
   "cell_type": "code",
   "execution_count": 16,
   "metadata": {},
   "outputs": [],
   "source": [
    "cat.append('EmployeeNumber')"
   ]
  },
  {
   "cell_type": "code",
   "execution_count": 17,
   "metadata": {},
   "outputs": [
    {
     "data": {
      "text/plain": [
       "list"
      ]
     },
     "execution_count": 17,
     "metadata": {},
     "output_type": "execute_result"
    }
   ],
   "source": [
    "type(cat)"
   ]
  },
  {
   "cell_type": "code",
   "execution_count": 18,
   "metadata": {},
   "outputs": [
    {
     "data": {
      "text/plain": [
       "['Attrition',\n",
       " 'BusinessTravel',\n",
       " 'Department',\n",
       " 'EducationField',\n",
       " 'Gender',\n",
       " 'JobRole',\n",
       " 'MaritalStatus',\n",
       " 'Over18',\n",
       " 'OverTime',\n",
       " 'EmployeeNumber']"
      ]
     },
     "execution_count": 18,
     "metadata": {},
     "output_type": "execute_result"
    }
   ],
   "source": [
    "cat"
   ]
  },
  {
   "cell_type": "code",
   "execution_count": 19,
   "metadata": {},
   "outputs": [
    {
     "data": {
      "text/plain": [
       "Age                         False\n",
       "Attrition                   False\n",
       "BusinessTravel              False\n",
       "DailyRate                   False\n",
       "Department                  False\n",
       "DistanceFromHome            False\n",
       "Education                   False\n",
       "EducationField              False\n",
       "EmployeeCount               False\n",
       "EmployeeNumber              False\n",
       "EnvironmentSatisfaction     False\n",
       "Gender                      False\n",
       "HourlyRate                  False\n",
       "JobInvolvement              False\n",
       "JobLevel                    False\n",
       "JobRole                     False\n",
       "JobSatisfaction             False\n",
       "MaritalStatus               False\n",
       "MonthlyIncome               False\n",
       "MonthlyRate                 False\n",
       "NumCompaniesWorked          False\n",
       "Over18                      False\n",
       "OverTime                    False\n",
       "PercentSalaryHike           False\n",
       "PerformanceRating           False\n",
       "RelationshipSatisfaction    False\n",
       "StandardHours               False\n",
       "StockOptionLevel            False\n",
       "TotalWorkingYears           False\n",
       "TrainingTimesLastYear       False\n",
       "WorkLifeBalance             False\n",
       "YearsAtCompany              False\n",
       "YearsInCurrentRole          False\n",
       "YearsSinceLastPromotion     False\n",
       "YearsWithCurrManager        False\n",
       "dtype: bool"
      ]
     },
     "execution_count": 19,
     "metadata": {},
     "output_type": "execute_result"
    }
   ],
   "source": [
    "#Checking for null values\n",
    "hr_data.isnull().any()"
   ]
  },
  {
   "cell_type": "code",
   "execution_count": 20,
   "metadata": {},
   "outputs": [],
   "source": [
    "# No null values..thats great.."
   ]
  },
  {
   "cell_type": "code",
   "execution_count": 21,
   "metadata": {},
   "outputs": [
    {
     "data": {
      "text/plain": [
       "<matplotlib.axes._subplots.AxesSubplot at 0x7f7e744f2630>"
      ]
     },
     "execution_count": 21,
     "metadata": {},
     "output_type": "execute_result"
    },
    {
     "data": {
      "image/png": "[encoded data removed]",
      "text/plain": [
       "<Figure size 432x288 with 1 Axes>"
      ]
     },
     "metadata": {},
     "output_type": "display_data"
    }
   ],
   "source": [
    "# Inspecting the taerget variable ...\n",
    "hr_data['Attrition'].value_counts(normalize=True).plot(kind='pie',autopct='%1.1f%%')"
   ]
  },
  {
   "cell_type": "code",
   "execution_count": 22,
   "metadata": {},
   "outputs": [],
   "source": [
    "#Class imbalance exists"
   ]
  },
  {
   "cell_type": "markdown",
   "metadata": {},
   "source": [
    "#### Univariate Analysis"
   ]
  },
  {
   "cell_type": "code",
   "execution_count": 23,
   "metadata": {},
   "outputs": [
    {
     "data": {
      "text/plain": [
       "886"
      ]
     },
     "execution_count": 23,
     "metadata": {},
     "output_type": "execute_result"
    }
   ],
   "source": [
    "len(hr_data['DailyRate'].unique())"
   ]
  },
  {
   "cell_type": "code",
   "execution_count": 24,
   "metadata": {},
   "outputs": [
    {
     "data": {
      "text/plain": [
       "<matplotlib.axes._subplots.AxesSubplot at 0x7f7e7223e6d8>"
      ]
     },
     "execution_count": 24,
     "metadata": {},
     "output_type": "execute_result"
    },
    {
     "data": {
      "image/png": "[encoded data removed]",
      "text/plain": [
       "<Figure size 432x288 with 1 Axes>"
      ]
     },
     "metadata": {},
     "output_type": "display_data"
    }
   ],
   "source": [
    "sns.distplot(hr_data['DailyRate'])"
   ]
  },
  {
   "cell_type": "code",
   "execution_count": 25,
   "metadata": {},
   "outputs": [
    {
     "data": {
      "text/plain": [
       "<matplotlib.axes._subplots.AxesSubplot at 0x7f7e6c93f860>"
      ]
     },
     "execution_count": 25,
     "metadata": {},
     "output_type": "execute_result"
    },
    {
     "data": {
      "image/png": "[encoded data removed]",
      "text/plain": [
       "<Figure size 432x288 with 1 Axes>"
      ]
     },
     "metadata": {},
     "output_type": "display_data"
    }
   ],
   "source": [
    "sns.distplot(hr_data['HourlyRate'])"
   ]
  },
  {
   "cell_type": "code",
   "execution_count": 26,
   "metadata": {},
   "outputs": [
    {
     "data": {
      "text/plain": [
       "<matplotlib.axes._subplots.AxesSubplot at 0x7f7e6c8babe0>"
      ]
     },
     "execution_count": 26,
     "metadata": {},
     "output_type": "execute_result"
    },
    {
     "data": {
      "image/png": "[encoded data removed]",
      "text/plain": [
       "<Figure size 432x288 with 1 Axes>"
      ]
     },
     "metadata": {},
     "output_type": "display_data"
    }
   ],
   "source": [
    "sns.distplot(hr_data['MonthlyIncome'])"
   ]
  },
  {
   "cell_type": "code",
   "execution_count": 27,
   "metadata": {},
   "outputs": [],
   "source": [
    "# For some numeric variables we will use the countplot, while for some others we will use the distplot.."
   ]
  },
  {
   "cell_type": "code",
   "execution_count": 28,
   "metadata": {},
   "outputs": [
    {
     "name": "stdout",
     "output_type": "stream",
     "text": [
      "Variable : Age, No. of UniqueValues: 43\n",
      "Variable : DailyRate, No. of UniqueValues: 886\n",
      "Variable : DistanceFromHome, No. of UniqueValues: 29\n",
      "Variable : Education, No. of UniqueValues: 5\n",
      "Variable : EmployeeCount, No. of UniqueValues: 1\n",
      "Variable : EnvironmentSatisfaction, No. of UniqueValues: 4\n",
      "Variable : HourlyRate, No. of UniqueValues: 71\n",
      "Variable : JobInvolvement, No. of UniqueValues: 4\n",
      "Variable : JobLevel, No. of UniqueValues: 5\n",
      "Variable : JobSatisfaction, No. of UniqueValues: 4\n",
      "Variable : MonthlyIncome, No. of UniqueValues: 1349\n",
      "Variable : MonthlyRate, No. of UniqueValues: 1427\n",
      "Variable : NumCompaniesWorked, No. of UniqueValues: 10\n",
      "Variable : PercentSalaryHike, No. of UniqueValues: 15\n",
      "Variable : PerformanceRating, No. of UniqueValues: 2\n",
      "Variable : RelationshipSatisfaction, No. of UniqueValues: 4\n",
      "Variable : StandardHours, No. of UniqueValues: 1\n",
      "Variable : StockOptionLevel, No. of UniqueValues: 4\n",
      "Variable : TotalWorkingYears, No. of UniqueValues: 40\n",
      "Variable : TrainingTimesLastYear, No. of UniqueValues: 7\n",
      "Variable : WorkLifeBalance, No. of UniqueValues: 4\n",
      "Variable : YearsAtCompany, No. of UniqueValues: 37\n",
      "Variable : YearsInCurrentRole, No. of UniqueValues: 19\n",
      "Variable : YearsSinceLastPromotion, No. of UniqueValues: 16\n",
      "Variable : YearsWithCurrManager, No. of UniqueValues: 18\n"
     ]
    }
   ],
   "source": [
    "disc=[]\n",
    "num_nd=[]\n",
    "for var in num :\n",
    "    print(f'Variable : {var}, No. of UniqueValues: {len(hr_data[var].unique())}')\n",
    "    if len(hr_data[var].unique()) <= 20 :\n",
    "       disc.append(var)\n",
    "    else :\n",
    "       num_nd.append(var)    "
   ]
  },
  {
   "cell_type": "code",
   "execution_count": 29,
   "metadata": {},
   "outputs": [
    {
     "data": {
      "text/plain": [
       "['Age',\n",
       " 'DailyRate',\n",
       " 'DistanceFromHome',\n",
       " 'HourlyRate',\n",
       " 'MonthlyIncome',\n",
       " 'MonthlyRate',\n",
       " 'TotalWorkingYears',\n",
       " 'YearsAtCompany']"
      ]
     },
     "execution_count": 29,
     "metadata": {},
     "output_type": "execute_result"
    }
   ],
   "source": [
    "num_nd"
   ]
  },
  {
   "cell_type": "code",
   "execution_count": 30,
   "metadata": {},
   "outputs": [
    {
     "data": {
      "text/plain": [
       "['Education',\n",
       " 'EmployeeCount',\n",
       " 'EnvironmentSatisfaction',\n",
       " 'JobInvolvement',\n",
       " 'JobLevel',\n",
       " 'JobSatisfaction',\n",
       " 'NumCompaniesWorked',\n",
       " 'PercentSalaryHike',\n",
       " 'PerformanceRating',\n",
       " 'RelationshipSatisfaction',\n",
       " 'StandardHours',\n",
       " 'StockOptionLevel',\n",
       " 'TrainingTimesLastYear',\n",
       " 'WorkLifeBalance',\n",
       " 'YearsInCurrentRole',\n",
       " 'YearsSinceLastPromotion',\n",
       " 'YearsWithCurrManager']"
      ]
     },
     "execution_count": 30,
     "metadata": {},
     "output_type": "execute_result"
    }
   ],
   "source": [
    "disc"
   ]
  },
  {
   "cell_type": "code",
   "execution_count": 31,
   "metadata": {},
   "outputs": [],
   "source": [
    "disc.remove('EmployeeCount')\n",
    "hr_data.drop(columns=['EmployeeCount'],inplace=True)"
   ]
  },
  {
   "cell_type": "code",
   "execution_count": 32,
   "metadata": {},
   "outputs": [
    {
     "data": {
      "text/plain": [
       "['Education',\n",
       " 'EnvironmentSatisfaction',\n",
       " 'JobInvolvement',\n",
       " 'JobLevel',\n",
       " 'JobSatisfaction',\n",
       " 'NumCompaniesWorked',\n",
       " 'PercentSalaryHike',\n",
       " 'PerformanceRating',\n",
       " 'RelationshipSatisfaction',\n",
       " 'StandardHours',\n",
       " 'StockOptionLevel',\n",
       " 'TrainingTimesLastYear',\n",
       " 'WorkLifeBalance',\n",
       " 'YearsInCurrentRole',\n",
       " 'YearsSinceLastPromotion',\n",
       " 'YearsWithCurrManager']"
      ]
     },
     "execution_count": 32,
     "metadata": {},
     "output_type": "execute_result"
    }
   ],
   "source": [
    "disc"
   ]
  },
  {
   "cell_type": "code",
   "execution_count": 33,
   "metadata": {},
   "outputs": [
    {
     "data": {
      "image/png": "[encoded data removed]",
      "text/plain": [
       "<Figure size 864x432 with 8 Axes>"
      ]
     },
     "metadata": {},
     "output_type": "display_data"
    }
   ],
   "source": [
    "# Plotting the numerical vars..ie vars deemed to be numerical....\n",
    "num_f=pd.melt(hr_data,value_vars=sorted(num_nd))\n",
    "g=sns.FacetGrid(num_f,col='variable',sharex=False,sharey=False,col_wrap=4)\n",
    "g=g.map(sns.distplot,'value')\n",
    "[plt.setp(ax.get_xticklabels(),rotation=60) for ax in g.axes.flat]\n",
    "plt.tight_layout()\n",
    "plt.show()"
   ]
  },
  {
   "cell_type": "code",
   "execution_count": 34,
   "metadata": {},
   "outputs": [
    {
     "data": {
      "image/png": "[encoded data removed]",
      "text/plain": [
       "<Figure size 864x864 with 16 Axes>"
      ]
     },
     "metadata": {},
     "output_type": "display_data"
    }
   ],
   "source": [
    "# Plotting the discrete vars..ie vars deemed to be discrete....\n",
    "disc_f=pd.melt(hr_data,value_vars=sorted(disc))\n",
    "g=sns.FacetGrid(disc_f,col='variable',sharex=False,sharey=False,col_wrap=4)\n",
    "g=g.map(sns.countplot,'value')\n",
    "[plt.setp(ax.get_xticklabels(),rotation=60) for ax in g.axes.flat]\n",
    "plt.tight_layout()\n",
    "plt.show()"
   ]
  },
  {
   "cell_type": "code",
   "execution_count": 35,
   "metadata": {},
   "outputs": [
    {
     "name": "stdout",
     "output_type": "stream",
     "text": [
      "1\n"
     ]
    }
   ],
   "source": [
    "print(len(hr_data['StandardHours'].unique()))"
   ]
  },
  {
   "cell_type": "code",
   "execution_count": 36,
   "metadata": {},
   "outputs": [],
   "source": [
    "#Dropping the variable standard hours as it has only 1 value\n",
    "hr_data.drop(columns=['StandardHours'],inplace=True)"
   ]
  },
  {
   "cell_type": "code",
   "execution_count": 37,
   "metadata": {},
   "outputs": [],
   "source": [
    "disc.remove('StandardHours')"
   ]
  },
  {
   "cell_type": "code",
   "execution_count": 38,
   "metadata": {},
   "outputs": [],
   "source": [
    "cat.remove('EmployeeNumber')\n",
    "cat.remove('Attrition')"
   ]
  },
  {
   "cell_type": "code",
   "execution_count": 39,
   "metadata": {},
   "outputs": [
    {
     "data": {
      "image/png": "[encoded data removed]",
      "text/plain": [
       "<Figure size 432x864 with 8 Axes>"
      ]
     },
     "metadata": {},
     "output_type": "display_data"
    }
   ],
   "source": [
    "cat_f=pd.melt(hr_data,value_vars=sorted(cat))\n",
    "g=sns.FacetGrid(cat_f,col='variable',sharex=False,sharey=False,col_wrap=2)\n",
    "g=g.map(sns.countplot,'value')\n",
    "[plt.setp(ax.get_xticklabels(),rotation=60) for ax in g.axes.flat]\n",
    "plt.tight_layout()\n",
    "plt.show()"
   ]
  },
  {
   "cell_type": "code",
   "execution_count": 40,
   "metadata": {},
   "outputs": [
    {
     "data": {
      "text/plain": [
       "1"
      ]
     },
     "execution_count": 40,
     "metadata": {},
     "output_type": "execute_result"
    }
   ],
   "source": [
    "# The variable OverTime has only one value ..'Yes'...\n",
    "len(hr_data['Over18'].unique())"
   ]
  },
  {
   "cell_type": "code",
   "execution_count": 41,
   "metadata": {},
   "outputs": [],
   "source": [
    "hr_data.drop(columns=['Over18'],inplace=True)\n"
   ]
  },
  {
   "cell_type": "code",
   "execution_count": 42,
   "metadata": {},
   "outputs": [],
   "source": [
    "cat.remove('Over18')"
   ]
  },
  {
   "cell_type": "code",
   "execution_count": 43,
   "metadata": {},
   "outputs": [
    {
     "name": "stdout",
     "output_type": "stream",
     "text": [
      "BusinessTravel\n",
      "\n",
      "Travel_Rarely        0.709524\n",
      "Travel_Frequently    0.188435\n",
      "Non-Travel           0.102041\n",
      "Name: BusinessTravel, dtype: float64\n",
      "\n",
      "Department\n",
      "\n",
      "Research & Development    0.653741\n",
      "Sales                     0.303401\n",
      "Human Resources           0.042857\n",
      "Name: Department, dtype: float64\n",
      "\n",
      "EducationField\n",
      "\n",
      "Life Sciences       0.412245\n",
      "Medical             0.315646\n",
      "Marketing           0.108163\n",
      "Technical Degree    0.089796\n",
      "Other               0.055782\n",
      "Human Resources     0.018367\n",
      "Name: EducationField, dtype: float64\n",
      "\n",
      "Gender\n",
      "\n",
      "Male      0.6\n",
      "Female    0.4\n",
      "Name: Gender, dtype: float64\n",
      "\n",
      "JobRole\n",
      "\n",
      "Sales Executive              0.221769\n",
      "Research Scientist           0.198639\n",
      "Laboratory Technician        0.176190\n",
      "Manufacturing Director       0.098639\n",
      "Healthcare Representative    0.089116\n",
      "Manager                      0.069388\n",
      "Sales Representative         0.056463\n",
      "Research Director            0.054422\n",
      "Human Resources              0.035374\n",
      "Name: JobRole, dtype: float64\n",
      "\n",
      "MaritalStatus\n",
      "\n",
      "Married     0.457823\n",
      "Single      0.319728\n",
      "Divorced    0.222449\n",
      "Name: MaritalStatus, dtype: float64\n",
      "\n",
      "OverTime\n",
      "\n",
      "No     0.717007\n",
      "Yes    0.282993\n",
      "Name: OverTime, dtype: float64\n",
      "\n"
     ]
    }
   ],
   "source": [
    "# Inspecting rare values in categorical variables..\n",
    "for var in cat :\n",
    "    print(var)\n",
    "    print()\n",
    "    print(hr_data[var].value_counts(normalize=True))\n",
    "    print()"
   ]
  },
  {
   "cell_type": "code",
   "execution_count": 44,
   "metadata": {},
   "outputs": [],
   "source": [
    "# Rare values are present in JobRole,EducationField, and Department..only Human Resources is the 'Rare' value in these fields..."
   ]
  },
  {
   "cell_type": "markdown",
   "metadata": {},
   "source": [
    "#### Bivariate Analysis"
   ]
  },
  {
   "cell_type": "code",
   "execution_count": 45,
   "metadata": {},
   "outputs": [
    {
     "data": {
      "image/png": "[encoded data removed]",
      "text/plain": [
       "<Figure size 1440x720 with 2 Axes>"
      ]
     },
     "metadata": {},
     "output_type": "display_data"
    }
   ],
   "source": [
    "# Exploring correlation among numerical variables\n",
    "corr_mat=hr_data[num_nd].corr()\n",
    "fig=plt.figure(figsize=(20,10))\n",
    "fig.add_subplot(111)\n",
    "cmap=sns.diverging_palette(200,10,as_cmap=True)\n",
    "sns.heatmap(corr_mat,xticklabels=corr_mat.columns.values,yticklabels=corr_mat.columns.values,cmap=cmap,annot=True)\n",
    "plt.show()"
   ]
  },
  {
   "cell_type": "code",
   "execution_count": 46,
   "metadata": {},
   "outputs": [
    {
     "data": {
      "image/png": "[encoded data removed]",
      "text/plain": [
       "<Figure size 1440x720 with 2 Axes>"
      ]
     },
     "metadata": {},
     "output_type": "display_data"
    }
   ],
   "source": [
    "corr_mat=hr_data[disc].corr()\n",
    "fig=plt.figure(figsize=(20,10))\n",
    "fig.add_subplot(111)\n",
    "cmap=sns.diverging_palette(200,10,as_cmap=True)\n",
    "sns.heatmap(corr_mat,xticklabels=corr_mat.columns.values,yticklabels=corr_mat.columns.values,cmap=cmap,annot=True)\n",
    "plt.show()"
   ]
  },
  {
   "cell_type": "code",
   "execution_count": 47,
   "metadata": {},
   "outputs": [],
   "source": [
    "# As seen from the above plots some features are correlated"
   ]
  },
  {
   "cell_type": "code",
   "execution_count": 48,
   "metadata": {},
   "outputs": [],
   "source": [
    "hr_data.Attrition.replace({'Yes':1,'No':0},inplace=True)"
   ]
  },
  {
   "cell_type": "code",
   "execution_count": 49,
   "metadata": {},
   "outputs": [
    {
     "data": {
      "text/plain": [
       "<matplotlib.axes._subplots.AxesSubplot at 0x7f7e6c79f5c0>"
      ]
     },
     "execution_count": 49,
     "metadata": {},
     "output_type": "execute_result"
    },
    {
     "data": {
      "image/png": "[encoded data removed]",
      "text/plain": [
       "<Figure size 1080x720 with 1 Axes>"
      ]
     },
     "metadata": {},
     "output_type": "display_data"
    }
   ],
   "source": [
    "hr_data[disc].corrwith(hr_data['Attrition']).plot(kind='bar',title='Correlation of discrete variables with Attrition',figsize=(15,10))"
   ]
  },
  {
   "cell_type": "code",
   "execution_count": 50,
   "metadata": {},
   "outputs": [],
   "source": [
    "# Some variables strongly affect Attrition...For example if en employee is comfortable with his/her manager (YearsWithCurrManager is more), then he/she is likely to stay back."
   ]
  },
  {
   "cell_type": "code",
   "execution_count": 51,
   "metadata": {},
   "outputs": [
    {
     "data": {
      "text/html": [
       "<div>\n",
       "<style scoped>\n",
       "    .dataframe tbody tr th:only-of-type {\n",
       "        vertical-align: middle;\n",
       "    }\n",
       "\n",
       "    .dataframe tbody tr th {\n",
       "        vertical-align: top;\n",
       "    }\n",
       "\n",
       "    .dataframe thead th {\n",
       "        text-align: right;\n",
       "    }\n",
       "</style>\n",
       "<table border=\"1\" class=\"dataframe\">\n",
       "  <thead>\n",
       "    <tr style=\"text-align: right;\">\n",
       "      <th>BusinessTravel</th>\n",
       "      <th>Non-Travel</th>\n",
       "      <th>Travel_Frequently</th>\n",
       "      <th>Travel_Rarely</th>\n",
       "    </tr>\n",
       "    <tr>\n",
       "      <th>Attrition</th>\n",
       "      <th></th>\n",
       "      <th></th>\n",
       "      <th></th>\n",
       "    </tr>\n",
       "  </thead>\n",
       "  <tbody>\n",
       "    <tr>\n",
       "      <th>0</th>\n",
       "      <td>138</td>\n",
       "      <td>208</td>\n",
       "      <td>887</td>\n",
       "    </tr>\n",
       "    <tr>\n",
       "      <th>1</th>\n",
       "      <td>12</td>\n",
       "      <td>69</td>\n",
       "      <td>156</td>\n",
       "    </tr>\n",
       "  </tbody>\n",
       "</table>\n",
       "</div>"
      ],
      "text/plain": [
       "BusinessTravel  Non-Travel  Travel_Frequently  Travel_Rarely\n",
       "Attrition                                                   \n",
       "0                      138                208            887\n",
       "1                       12                 69            156"
      ]
     },
     "execution_count": 51,
     "metadata": {},
     "output_type": "execute_result"
    }
   ],
   "source": [
    "pd.crosstab(index=hr_data['Attrition'],columns=hr_data['BusinessTravel'])"
   ]
  },
  {
   "cell_type": "code",
   "execution_count": 52,
   "metadata": {},
   "outputs": [],
   "source": [
    "from scipy.stats import chi2_contingency"
   ]
  },
  {
   "cell_type": "code",
   "execution_count": 53,
   "metadata": {},
   "outputs": [],
   "source": [
    "# We will use chisq tests to determine which categorical variables are significant"
   ]
  },
  {
   "cell_type": "code",
   "execution_count": 54,
   "metadata": {},
   "outputs": [
    {
     "name": "stdout",
     "output_type": "stream",
     "text": [
      "BusinessTravel is significant for Attrition \n",
      "p value 5.608614476449931e-06\n",
      "\n",
      "Department is significant for Attrition \n",
      "p value 0.004525606574479633\n",
      "\n",
      "EducationField is significant for Attrition \n",
      "p value 0.006773980139025222\n",
      "\n",
      "Gender is not significant for Attrition \n",
      "p value 0.29057244902890855\n",
      "\n",
      "JobRole is significant for Attrition \n",
      "p value 2.752481638050657e-15\n",
      "\n",
      "MaritalStatus is significant for Attrition \n",
      "p value 9.45551106034083e-11\n",
      "\n",
      "OverTime is significant for Attrition \n",
      "p value 8.15842372153832e-21\n",
      "\n"
     ]
    }
   ],
   "source": [
    "for var in cat :\n",
    "    chisq=chi2_contingency(pd.crosstab(index=hr_data['Attrition'],columns=hr_data[var]))\n",
    "    if chisq[1] < 0.05 :\n",
    "        print(f'{var} is significant for Attrition ')\n",
    "        print(f'p value {chisq[1]}')\n",
    "        print()\n",
    "    else :\n",
    "        print(f'{var} is not significant for Attrition ')\n",
    "        print(f'p value {chisq[1]}')\n",
    "        print()      "
   ]
  },
  {
   "cell_type": "code",
   "execution_count": 55,
   "metadata": {},
   "outputs": [],
   "source": [
    "# Looks like all the categorical variables are significant"
   ]
  },
  {
   "cell_type": "code",
   "execution_count": 56,
   "metadata": {},
   "outputs": [],
   "source": [
    "# Encoding the categorical variables\n",
    "hr_data=pd.get_dummies(hr_data)"
   ]
  },
  {
   "cell_type": "code",
   "execution_count": 57,
   "metadata": {},
   "outputs": [
    {
     "name": "stdout",
     "output_type": "stream",
     "text": [
      "<class 'pandas.core.frame.DataFrame'>\n",
      "RangeIndex: 1470 entries, 0 to 1469\n",
      "Data columns (total 53 columns):\n",
      "Age                                  1470 non-null int64\n",
      "Attrition                            1470 non-null int64\n",
      "DailyRate                            1470 non-null int64\n",
      "DistanceFromHome                     1470 non-null int64\n",
      "Education                            1470 non-null int64\n",
      "EmployeeNumber                       1470 non-null int64\n",
      "EnvironmentSatisfaction              1470 non-null int64\n",
      "HourlyRate                           1470 non-null int64\n",
      "JobInvolvement                       1470 non-null int64\n",
      "JobLevel                             1470 non-null int64\n",
      "JobSatisfaction                      1470 non-null int64\n",
      "MonthlyIncome                        1470 non-null int64\n",
      "MonthlyRate                          1470 non-null int64\n",
      "NumCompaniesWorked                   1470 non-null int64\n",
      "PercentSalaryHike                    1470 non-null int64\n",
      "PerformanceRating                    1470 non-null int64\n",
      "RelationshipSatisfaction             1470 non-null int64\n",
      "StockOptionLevel                     1470 non-null int64\n",
      "TotalWorkingYears                    1470 non-null int64\n",
      "TrainingTimesLastYear                1470 non-null int64\n",
      "WorkLifeBalance                      1470 non-null int64\n",
      "YearsAtCompany                       1470 non-null int64\n",
      "YearsInCurrentRole                   1470 non-null int64\n",
      "YearsSinceLastPromotion              1470 non-null int64\n",
      "YearsWithCurrManager                 1470 non-null int64\n",
      "BusinessTravel_Non-Travel            1470 non-null uint8\n",
      "BusinessTravel_Travel_Frequently     1470 non-null uint8\n",
      "BusinessTravel_Travel_Rarely         1470 non-null uint8\n",
      "Department_Human Resources           1470 non-null uint8\n",
      "Department_Research & Development    1470 non-null uint8\n",
      "Department_Sales                     1470 non-null uint8\n",
      "EducationField_Human Resources       1470 non-null uint8\n",
      "EducationField_Life Sciences         1470 non-null uint8\n",
      "EducationField_Marketing             1470 non-null uint8\n",
      "EducationField_Medical               1470 non-null uint8\n",
      "EducationField_Other                 1470 non-null uint8\n",
      "EducationField_Technical Degree      1470 non-null uint8\n",
      "Gender_Female                        1470 non-null uint8\n",
      "Gender_Male                          1470 non-null uint8\n",
      "JobRole_Healthcare Representative    1470 non-null uint8\n",
      "JobRole_Human Resources              1470 non-null uint8\n",
      "JobRole_Laboratory Technician        1470 non-null uint8\n",
      "JobRole_Manager                      1470 non-null uint8\n",
      "JobRole_Manufacturing Director       1470 non-null uint8\n",
      "JobRole_Research Director            1470 non-null uint8\n",
      "JobRole_Research Scientist           1470 non-null uint8\n",
      "JobRole_Sales Executive              1470 non-null uint8\n",
      "JobRole_Sales Representative         1470 non-null uint8\n",
      "MaritalStatus_Divorced               1470 non-null uint8\n",
      "MaritalStatus_Married                1470 non-null uint8\n",
      "MaritalStatus_Single                 1470 non-null uint8\n",
      "OverTime_No                          1470 non-null uint8\n",
      "OverTime_Yes                         1470 non-null uint8\n",
      "dtypes: int64(25), uint8(28)\n",
      "memory usage: 327.4 KB\n"
     ]
    }
   ],
   "source": [
    "hr_data.info()"
   ]
  },
  {
   "cell_type": "code",
   "execution_count": 58,
   "metadata": {},
   "outputs": [],
   "source": [
    "# Avoiding the dummy variable trap...\n",
    "hr_data.drop(columns=['BusinessTravel_Non-Travel','JobRole_Human Resources','MaritalStatus_Divorced','OverTime_Yes','Gender_Female','EducationField_Human Resources','Department_Human Resources'],inplace=True)"
   ]
  },
  {
   "cell_type": "code",
   "execution_count": 59,
   "metadata": {},
   "outputs": [
    {
     "data": {
      "text/plain": [
       "0    1\n",
       "1    0\n",
       "2    1\n",
       "3    0\n",
       "4    0\n",
       "Name: Attrition, dtype: int64"
      ]
     },
     "execution_count": 59,
     "metadata": {},
     "output_type": "execute_result"
    }
   ],
   "source": [
    "hr_data['Attrition'].head()"
   ]
  },
  {
   "cell_type": "code",
   "execution_count": 60,
   "metadata": {},
   "outputs": [],
   "source": [
    "from sklearn.model_selection import train_test_split"
   ]
  },
  {
   "cell_type": "code",
   "execution_count": 61,
   "metadata": {},
   "outputs": [],
   "source": [
    "X_train,X_test,y_train,y_test=train_test_split(hr_data[hr_data.columns.difference(['EmployeeNumber','Attrition'])],hr_data['Attrition'],test_size=0.3,random_state=10)"
   ]
  },
  {
   "cell_type": "code",
   "execution_count": 62,
   "metadata": {},
   "outputs": [],
   "source": [
    "# Tackling class imbalance using SMOTE\n",
    "oversampling=SMOTE(random_state=0)"
   ]
  },
  {
   "cell_type": "code",
   "execution_count": 63,
   "metadata": {},
   "outputs": [],
   "source": [
    "SMOTE_train,SMOTE_target=oversampling.fit_sample(X_train,y_train)"
   ]
  },
  {
   "cell_type": "code",
   "execution_count": 64,
   "metadata": {},
   "outputs": [],
   "source": [
    "SMOTE_train=pd.DataFrame(SMOTE_train,columns=X_train.columns)"
   ]
  },
  {
   "cell_type": "markdown",
   "metadata": {},
   "source": [
    "#### Predictive Models"
   ]
  },
  {
   "cell_type": "markdown",
   "metadata": {},
   "source": [
    "##### Applying Logistic Regression ( with both oversampling and undersampling)"
   ]
  },
  {
   "cell_type": "markdown",
   "metadata": {},
   "source": [
    "###### We will use SMOTE to oversample the minority class. We will also create another data set that will downsample the majority class such that the no. of samples for both classes are equal"
   ]
  },
  {
   "cell_type": "markdown",
   "metadata": {},
   "source": [
    "##### Logistic Regression with SMOTE "
   ]
  },
  {
   "cell_type": "code",
   "execution_count": 65,
   "metadata": {},
   "outputs": [],
   "source": [
    "#Applying Logistic Regression\n",
    "from sklearn.metrics import classification_report,roc_curve,auc,accuracy_score\n",
    "from sklearn.model_selection import GridSearchCV,RandomizedSearchCV,cross_validate"
   ]
  },
  {
   "cell_type": "code",
   "execution_count": 66,
   "metadata": {},
   "outputs": [],
   "source": [
    "parameter_grid={'C':[0.0001,0.001,0.01,.1,1,10],\n",
    "               'penalty':['l1','l2']}\n",
    "log_reg=LogisticRegression()"
   ]
  },
  {
   "cell_type": "code",
   "execution_count": 67,
   "metadata": {},
   "outputs": [],
   "source": [
    "classifier_logreg=GridSearchCV(estimator=log_reg,param_grid=parameter_grid,n_jobs=-1,scoring='roc_auc',cv=10)"
   ]
  },
  {
   "cell_type": "code",
   "execution_count": 68,
   "metadata": {},
   "outputs": [
    {
     "data": {
      "text/plain": [
       "GridSearchCV(cv=10, error_score='raise-deprecating',\n",
       "             estimator=LogisticRegression(C=1.0, class_weight=None, dual=False,\n",
       "                                          fit_intercept=True,\n",
       "                                          intercept_scaling=1, l1_ratio=None,\n",
       "                                          max_iter=100, multi_class='warn',\n",
       "                                          n_jobs=None, penalty='l2',\n",
       "                                          random_state=None, solver='warn',\n",
       "                                          tol=0.0001, verbose=0,\n",
       "                                          warm_start=False),\n",
       "             iid='warn', n_jobs=-1,\n",
       "             param_grid={'C': [0.0001, 0.001, 0.01, 0.1, 1, 10],\n",
       "                         'penalty': ['l1', 'l2']},\n",
       "             pre_dispatch='2*n_jobs', refit=True, return_train_score=False,\n",
       "             scoring='roc_auc', verbose=0)"
      ]
     },
     "execution_count": 68,
     "metadata": {},
     "output_type": "execute_result"
    }
   ],
   "source": [
    "classifier_logreg.fit(SMOTE_train,SMOTE_target)"
   ]
  },
  {
   "cell_type": "code",
   "execution_count": 69,
   "metadata": {},
   "outputs": [
    {
     "data": {
      "text/plain": [
       "{'C': 10, 'penalty': 'l1'}"
      ]
     },
     "execution_count": 69,
     "metadata": {},
     "output_type": "execute_result"
    }
   ],
   "source": [
    "classifier_logreg.best_params_"
   ]
  },
  {
   "cell_type": "code",
   "execution_count": 70,
   "metadata": {},
   "outputs": [],
   "source": [
    "label_pred_logit=classifier_logreg.best_estimator_.predict(X_test)"
   ]
  },
  {
   "cell_type": "code",
   "execution_count": 71,
   "metadata": {},
   "outputs": [],
   "source": [
    "fpr,tpr,thresh=roc_curve(y_test,label_pred_logit)"
   ]
  },
  {
   "cell_type": "code",
   "execution_count": 72,
   "metadata": {},
   "outputs": [
    {
     "data": {
      "text/plain": [
       "0.7391456582633052"
      ]
     },
     "execution_count": 72,
     "metadata": {},
     "output_type": "execute_result"
    }
   ],
   "source": [
    "auc(fpr,tpr)"
   ]
  },
  {
   "cell_type": "code",
   "execution_count": 73,
   "metadata": {},
   "outputs": [],
   "source": [
    "cls_report_logreg=classification_report(y_test,label_pred_logit)"
   ]
  },
  {
   "cell_type": "code",
   "execution_count": 74,
   "metadata": {},
   "outputs": [
    {
     "name": "stdout",
     "output_type": "stream",
     "text": [
      "              precision    recall  f1-score   support\n",
      "\n",
      "           0       0.90      0.92      0.91       357\n",
      "           1       0.62      0.56      0.59        84\n",
      "\n",
      "    accuracy                           0.85       441\n",
      "   macro avg       0.76      0.74      0.75       441\n",
      "weighted avg       0.85      0.85      0.85       441\n",
      "\n"
     ]
    }
   ],
   "source": [
    "print(cls_report_logreg)"
   ]
  },
  {
   "cell_type": "code",
   "execution_count": 75,
   "metadata": {},
   "outputs": [],
   "source": [
    "#Though we have obtained 85% accuracy, the recall,and precision scores are quite less where Attrition=1...We can downsample the majority class, and create a sample that has equal number of 1 s and zeroes."
   ]
  },
  {
   "cell_type": "code",
   "execution_count": 76,
   "metadata": {},
   "outputs": [],
   "source": [
    "# Or we can put a cost on misclassifying a 1 as a 0...."
   ]
  },
  {
   "cell_type": "markdown",
   "metadata": {},
   "source": [
    "##### Logistic Regression after downsampling ( creating a balanced data set)"
   ]
  },
  {
   "cell_type": "code",
   "execution_count": 77,
   "metadata": {},
   "outputs": [],
   "source": [
    "# Creating a balanced data set.."
   ]
  },
  {
   "cell_type": "code",
   "execution_count": 78,
   "metadata": {},
   "outputs": [],
   "source": [
    "hr_att=hr_data[hr_data.Attrition==1]"
   ]
  },
  {
   "cell_type": "code",
   "execution_count": 79,
   "metadata": {},
   "outputs": [],
   "source": [
    "hr_no_att=hr_data[hr_data.Attrition==0]"
   ]
  },
  {
   "cell_type": "code",
   "execution_count": 80,
   "metadata": {},
   "outputs": [
    {
     "name": "stdout",
     "output_type": "stream",
     "text": [
      "<class 'pandas.core.frame.DataFrame'>\n",
      "Int64Index: 237 entries, 0 to 1461\n",
      "Data columns (total 46 columns):\n",
      "Age                                  237 non-null int64\n",
      "Attrition                            237 non-null int64\n",
      "DailyRate                            237 non-null int64\n",
      "DistanceFromHome                     237 non-null int64\n",
      "Education                            237 non-null int64\n",
      "EmployeeNumber                       237 non-null int64\n",
      "EnvironmentSatisfaction              237 non-null int64\n",
      "HourlyRate                           237 non-null int64\n",
      "JobInvolvement                       237 non-null int64\n",
      "JobLevel                             237 non-null int64\n",
      "JobSatisfaction                      237 non-null int64\n",
      "MonthlyIncome                        237 non-null int64\n",
      "MonthlyRate                          237 non-null int64\n",
      "NumCompaniesWorked                   237 non-null int64\n",
      "PercentSalaryHike                    237 non-null int64\n",
      "PerformanceRating                    237 non-null int64\n",
      "RelationshipSatisfaction             237 non-null int64\n",
      "StockOptionLevel                     237 non-null int64\n",
      "TotalWorkingYears                    237 non-null int64\n",
      "TrainingTimesLastYear                237 non-null int64\n",
      "WorkLifeBalance                      237 non-null int64\n",
      "YearsAtCompany                       237 non-null int64\n",
      "YearsInCurrentRole                   237 non-null int64\n",
      "YearsSinceLastPromotion              237 non-null int64\n",
      "YearsWithCurrManager                 237 non-null int64\n",
      "BusinessTravel_Travel_Frequently     237 non-null uint8\n",
      "BusinessTravel_Travel_Rarely         237 non-null uint8\n",
      "Department_Research & Development    237 non-null uint8\n",
      "Department_Sales                     237 non-null uint8\n",
      "EducationField_Life Sciences         237 non-null uint8\n",
      "EducationField_Marketing             237 non-null uint8\n",
      "EducationField_Medical               237 non-null uint8\n",
      "EducationField_Other                 237 non-null uint8\n",
      "EducationField_Technical Degree      237 non-null uint8\n",
      "Gender_Male                          237 non-null uint8\n",
      "JobRole_Healthcare Representative    237 non-null uint8\n",
      "JobRole_Laboratory Technician        237 non-null uint8\n",
      "JobRole_Manager                      237 non-null uint8\n",
      "JobRole_Manufacturing Director       237 non-null uint8\n",
      "JobRole_Research Director            237 non-null uint8\n",
      "JobRole_Research Scientist           237 non-null uint8\n",
      "JobRole_Sales Executive              237 non-null uint8\n",
      "JobRole_Sales Representative         237 non-null uint8\n",
      "MaritalStatus_Married                237 non-null uint8\n",
      "MaritalStatus_Single                 237 non-null uint8\n",
      "OverTime_No                          237 non-null uint8\n",
      "dtypes: int64(25), uint8(21)\n",
      "memory usage: 53.0 KB\n"
     ]
    }
   ],
   "source": [
    "hr_att.info()"
   ]
  },
  {
   "cell_type": "code",
   "execution_count": 81,
   "metadata": {},
   "outputs": [
    {
     "name": "stdout",
     "output_type": "stream",
     "text": [
      "<class 'pandas.core.frame.DataFrame'>\n",
      "Int64Index: 1233 entries, 1 to 1469\n",
      "Data columns (total 46 columns):\n",
      "Age                                  1233 non-null int64\n",
      "Attrition                            1233 non-null int64\n",
      "DailyRate                            1233 non-null int64\n",
      "DistanceFromHome                     1233 non-null int64\n",
      "Education                            1233 non-null int64\n",
      "EmployeeNumber                       1233 non-null int64\n",
      "EnvironmentSatisfaction              1233 non-null int64\n",
      "HourlyRate                           1233 non-null int64\n",
      "JobInvolvement                       1233 non-null int64\n",
      "JobLevel                             1233 non-null int64\n",
      "JobSatisfaction                      1233 non-null int64\n",
      "MonthlyIncome                        1233 non-null int64\n",
      "MonthlyRate                          1233 non-null int64\n",
      "NumCompaniesWorked                   1233 non-null int64\n",
      "PercentSalaryHike                    1233 non-null int64\n",
      "PerformanceRating                    1233 non-null int64\n",
      "RelationshipSatisfaction             1233 non-null int64\n",
      "StockOptionLevel                     1233 non-null int64\n",
      "TotalWorkingYears                    1233 non-null int64\n",
      "TrainingTimesLastYear                1233 non-null int64\n",
      "WorkLifeBalance                      1233 non-null int64\n",
      "YearsAtCompany                       1233 non-null int64\n",
      "YearsInCurrentRole                   1233 non-null int64\n",
      "YearsSinceLastPromotion              1233 non-null int64\n",
      "YearsWithCurrManager                 1233 non-null int64\n",
      "BusinessTravel_Travel_Frequently     1233 non-null uint8\n",
      "BusinessTravel_Travel_Rarely         1233 non-null uint8\n",
      "Department_Research & Development    1233 non-null uint8\n",
      "Department_Sales                     1233 non-null uint8\n",
      "EducationField_Life Sciences         1233 non-null uint8\n",
      "EducationField_Marketing             1233 non-null uint8\n",
      "EducationField_Medical               1233 non-null uint8\n",
      "EducationField_Other                 1233 non-null uint8\n",
      "EducationField_Technical Degree      1233 non-null uint8\n",
      "Gender_Male                          1233 non-null uint8\n",
      "JobRole_Healthcare Representative    1233 non-null uint8\n",
      "JobRole_Laboratory Technician        1233 non-null uint8\n",
      "JobRole_Manager                      1233 non-null uint8\n",
      "JobRole_Manufacturing Director       1233 non-null uint8\n",
      "JobRole_Research Director            1233 non-null uint8\n",
      "JobRole_Research Scientist           1233 non-null uint8\n",
      "JobRole_Sales Executive              1233 non-null uint8\n",
      "JobRole_Sales Representative         1233 non-null uint8\n",
      "MaritalStatus_Married                1233 non-null uint8\n",
      "MaritalStatus_Single                 1233 non-null uint8\n",
      "OverTime_No                          1233 non-null uint8\n",
      "dtypes: int64(25), uint8(21)\n",
      "memory usage: 275.7 KB\n"
     ]
    }
   ],
   "source": [
    "hr_no_att.info()"
   ]
  },
  {
   "cell_type": "code",
   "execution_count": 82,
   "metadata": {},
   "outputs": [],
   "source": [
    "hr_no_att=hr_no_att.sample(hr_att.shape[0],random_state=10)"
   ]
  },
  {
   "cell_type": "code",
   "execution_count": 83,
   "metadata": {},
   "outputs": [],
   "source": [
    "hr_balanced=pd.concat([hr_no_att,hr_att])"
   ]
  },
  {
   "cell_type": "code",
   "execution_count": 84,
   "metadata": {},
   "outputs": [
    {
     "data": {
      "text/html": [
       "<div>\n",
       "<style scoped>\n",
       "    .dataframe tbody tr th:only-of-type {\n",
       "        vertical-align: middle;\n",
       "    }\n",
       "\n",
       "    .dataframe tbody tr th {\n",
       "        vertical-align: top;\n",
       "    }\n",
       "\n",
       "    .dataframe thead th {\n",
       "        text-align: right;\n",
       "    }\n",
       "</style>\n",
       "<table border=\"1\" class=\"dataframe\">\n",
       "  <thead>\n",
       "    <tr style=\"text-align: right;\">\n",
       "      <th></th>\n",
       "      <th>Age</th>\n",
       "      <th>Attrition</th>\n",
       "      <th>DailyRate</th>\n",
       "      <th>DistanceFromHome</th>\n",
       "      <th>Education</th>\n",
       "      <th>EmployeeNumber</th>\n",
       "      <th>EnvironmentSatisfaction</th>\n",
       "      <th>HourlyRate</th>\n",
       "      <th>JobInvolvement</th>\n",
       "      <th>JobLevel</th>\n",
       "      <th>...</th>\n",
       "      <th>JobRole_Laboratory Technician</th>\n",
       "      <th>JobRole_Manager</th>\n",
       "      <th>JobRole_Manufacturing Director</th>\n",
       "      <th>JobRole_Research Director</th>\n",
       "      <th>JobRole_Research Scientist</th>\n",
       "      <th>JobRole_Sales Executive</th>\n",
       "      <th>JobRole_Sales Representative</th>\n",
       "      <th>MaritalStatus_Married</th>\n",
       "      <th>MaritalStatus_Single</th>\n",
       "      <th>OverTime_No</th>\n",
       "    </tr>\n",
       "  </thead>\n",
       "  <tbody>\n",
       "    <tr>\n",
       "      <th>149</th>\n",
       "      <td>19</td>\n",
       "      <td>0</td>\n",
       "      <td>1181</td>\n",
       "      <td>3</td>\n",
       "      <td>1</td>\n",
       "      <td>201</td>\n",
       "      <td>2</td>\n",
       "      <td>79</td>\n",
       "      <td>3</td>\n",
       "      <td>1</td>\n",
       "      <td>...</td>\n",
       "      <td>1</td>\n",
       "      <td>0</td>\n",
       "      <td>0</td>\n",
       "      <td>0</td>\n",
       "      <td>0</td>\n",
       "      <td>0</td>\n",
       "      <td>0</td>\n",
       "      <td>0</td>\n",
       "      <td>1</td>\n",
       "      <td>1</td>\n",
       "    </tr>\n",
       "    <tr>\n",
       "      <th>833</th>\n",
       "      <td>27</td>\n",
       "      <td>0</td>\n",
       "      <td>199</td>\n",
       "      <td>6</td>\n",
       "      <td>3</td>\n",
       "      <td>1162</td>\n",
       "      <td>4</td>\n",
       "      <td>55</td>\n",
       "      <td>2</td>\n",
       "      <td>1</td>\n",
       "      <td>...</td>\n",
       "      <td>0</td>\n",
       "      <td>0</td>\n",
       "      <td>0</td>\n",
       "      <td>0</td>\n",
       "      <td>1</td>\n",
       "      <td>0</td>\n",
       "      <td>0</td>\n",
       "      <td>1</td>\n",
       "      <td>0</td>\n",
       "      <td>1</td>\n",
       "    </tr>\n",
       "    <tr>\n",
       "      <th>1285</th>\n",
       "      <td>46</td>\n",
       "      <td>0</td>\n",
       "      <td>849</td>\n",
       "      <td>26</td>\n",
       "      <td>2</td>\n",
       "      <td>1801</td>\n",
       "      <td>2</td>\n",
       "      <td>98</td>\n",
       "      <td>2</td>\n",
       "      <td>2</td>\n",
       "      <td>...</td>\n",
       "      <td>0</td>\n",
       "      <td>0</td>\n",
       "      <td>0</td>\n",
       "      <td>0</td>\n",
       "      <td>0</td>\n",
       "      <td>1</td>\n",
       "      <td>0</td>\n",
       "      <td>0</td>\n",
       "      <td>1</td>\n",
       "      <td>1</td>\n",
       "    </tr>\n",
       "    <tr>\n",
       "      <th>934</th>\n",
       "      <td>25</td>\n",
       "      <td>0</td>\n",
       "      <td>266</td>\n",
       "      <td>1</td>\n",
       "      <td>3</td>\n",
       "      <td>1303</td>\n",
       "      <td>4</td>\n",
       "      <td>40</td>\n",
       "      <td>3</td>\n",
       "      <td>1</td>\n",
       "      <td>...</td>\n",
       "      <td>0</td>\n",
       "      <td>0</td>\n",
       "      <td>0</td>\n",
       "      <td>0</td>\n",
       "      <td>1</td>\n",
       "      <td>0</td>\n",
       "      <td>0</td>\n",
       "      <td>0</td>\n",
       "      <td>1</td>\n",
       "      <td>1</td>\n",
       "    </tr>\n",
       "    <tr>\n",
       "      <th>644</th>\n",
       "      <td>31</td>\n",
       "      <td>0</td>\n",
       "      <td>1222</td>\n",
       "      <td>11</td>\n",
       "      <td>4</td>\n",
       "      <td>895</td>\n",
       "      <td>4</td>\n",
       "      <td>48</td>\n",
       "      <td>3</td>\n",
       "      <td>1</td>\n",
       "      <td>...</td>\n",
       "      <td>0</td>\n",
       "      <td>0</td>\n",
       "      <td>0</td>\n",
       "      <td>0</td>\n",
       "      <td>1</td>\n",
       "      <td>0</td>\n",
       "      <td>0</td>\n",
       "      <td>1</td>\n",
       "      <td>0</td>\n",
       "      <td>0</td>\n",
       "    </tr>\n",
       "  </tbody>\n",
       "</table>\n",
       "<p>5 rows × 46 columns</p>\n",
       "</div>"
      ],
      "text/plain": [
       "      Age  Attrition  DailyRate  DistanceFromHome  Education  EmployeeNumber  \\\n",
       "149    19          0       1181                 3          1             201   \n",
       "833    27          0        199                 6          3            1162   \n",
       "1285   46          0        849                26          2            1801   \n",
       "934    25          0        266                 1          3            1303   \n",
       "644    31          0       1222                11          4             895   \n",
       "\n",
       "      EnvironmentSatisfaction  HourlyRate  JobInvolvement  JobLevel  \\\n",
       "149                         2          79               3         1   \n",
       "833                         4          55               2         1   \n",
       "1285                        2          98               2         2   \n",
       "934                         4          40               3         1   \n",
       "644                         4          48               3         1   \n",
       "\n",
       "         ...       JobRole_Laboratory Technician  JobRole_Manager  \\\n",
       "149      ...                                   1                0   \n",
       "833      ...                                   0                0   \n",
       "1285     ...                                   0                0   \n",
       "934      ...                                   0                0   \n",
       "644      ...                                   0                0   \n",
       "\n",
       "      JobRole_Manufacturing Director  JobRole_Research Director  \\\n",
       "149                                0                          0   \n",
       "833                                0                          0   \n",
       "1285                               0                          0   \n",
       "934                                0                          0   \n",
       "644                                0                          0   \n",
       "\n",
       "      JobRole_Research Scientist  JobRole_Sales Executive  \\\n",
       "149                            0                        0   \n",
       "833                            1                        0   \n",
       "1285                           0                        1   \n",
       "934                            1                        0   \n",
       "644                            1                        0   \n",
       "\n",
       "      JobRole_Sales Representative  MaritalStatus_Married  \\\n",
       "149                              0                      0   \n",
       "833                              0                      1   \n",
       "1285                             0                      0   \n",
       "934                              0                      0   \n",
       "644                              0                      1   \n",
       "\n",
       "      MaritalStatus_Single  OverTime_No  \n",
       "149                      1            1  \n",
       "833                      0            1  \n",
       "1285                     1            1  \n",
       "934                      1            1  \n",
       "644                      0            0  \n",
       "\n",
       "[5 rows x 46 columns]"
      ]
     },
     "execution_count": 84,
     "metadata": {},
     "output_type": "execute_result"
    }
   ],
   "source": [
    "hr_balanced.head()"
   ]
  },
  {
   "cell_type": "code",
   "execution_count": 85,
   "metadata": {},
   "outputs": [],
   "source": [
    "hr_balanced=hr_balanced.sample(frac=1,random_state=10)"
   ]
  },
  {
   "cell_type": "code",
   "execution_count": 86,
   "metadata": {},
   "outputs": [
    {
     "data": {
      "text/html": [
       "<div>\n",
       "<style scoped>\n",
       "    .dataframe tbody tr th:only-of-type {\n",
       "        vertical-align: middle;\n",
       "    }\n",
       "\n",
       "    .dataframe tbody tr th {\n",
       "        vertical-align: top;\n",
       "    }\n",
       "\n",
       "    .dataframe thead th {\n",
       "        text-align: right;\n",
       "    }\n",
       "</style>\n",
       "<table border=\"1\" class=\"dataframe\">\n",
       "  <thead>\n",
       "    <tr style=\"text-align: right;\">\n",
       "      <th></th>\n",
       "      <th>Age</th>\n",
       "      <th>Attrition</th>\n",
       "      <th>DailyRate</th>\n",
       "      <th>DistanceFromHome</th>\n",
       "      <th>Education</th>\n",
       "      <th>EmployeeNumber</th>\n",
       "      <th>EnvironmentSatisfaction</th>\n",
       "      <th>HourlyRate</th>\n",
       "      <th>JobInvolvement</th>\n",
       "      <th>JobLevel</th>\n",
       "      <th>...</th>\n",
       "      <th>JobRole_Laboratory Technician</th>\n",
       "      <th>JobRole_Manager</th>\n",
       "      <th>JobRole_Manufacturing Director</th>\n",
       "      <th>JobRole_Research Director</th>\n",
       "      <th>JobRole_Research Scientist</th>\n",
       "      <th>JobRole_Sales Executive</th>\n",
       "      <th>JobRole_Sales Representative</th>\n",
       "      <th>MaritalStatus_Married</th>\n",
       "      <th>MaritalStatus_Single</th>\n",
       "      <th>OverTime_No</th>\n",
       "    </tr>\n",
       "  </thead>\n",
       "  <tbody>\n",
       "    <tr>\n",
       "      <th>83</th>\n",
       "      <td>38</td>\n",
       "      <td>0</td>\n",
       "      <td>573</td>\n",
       "      <td>6</td>\n",
       "      <td>3</td>\n",
       "      <td>107</td>\n",
       "      <td>2</td>\n",
       "      <td>79</td>\n",
       "      <td>1</td>\n",
       "      <td>2</td>\n",
       "      <td>...</td>\n",
       "      <td>0</td>\n",
       "      <td>0</td>\n",
       "      <td>0</td>\n",
       "      <td>0</td>\n",
       "      <td>1</td>\n",
       "      <td>0</td>\n",
       "      <td>0</td>\n",
       "      <td>0</td>\n",
       "      <td>0</td>\n",
       "      <td>0</td>\n",
       "    </tr>\n",
       "    <tr>\n",
       "      <th>157</th>\n",
       "      <td>58</td>\n",
       "      <td>0</td>\n",
       "      <td>1145</td>\n",
       "      <td>9</td>\n",
       "      <td>3</td>\n",
       "      <td>214</td>\n",
       "      <td>2</td>\n",
       "      <td>75</td>\n",
       "      <td>2</td>\n",
       "      <td>1</td>\n",
       "      <td>...</td>\n",
       "      <td>0</td>\n",
       "      <td>0</td>\n",
       "      <td>0</td>\n",
       "      <td>0</td>\n",
       "      <td>1</td>\n",
       "      <td>0</td>\n",
       "      <td>0</td>\n",
       "      <td>1</td>\n",
       "      <td>0</td>\n",
       "      <td>0</td>\n",
       "    </tr>\n",
       "    <tr>\n",
       "      <th>435</th>\n",
       "      <td>33</td>\n",
       "      <td>1</td>\n",
       "      <td>1277</td>\n",
       "      <td>15</td>\n",
       "      <td>1</td>\n",
       "      <td>582</td>\n",
       "      <td>2</td>\n",
       "      <td>56</td>\n",
       "      <td>3</td>\n",
       "      <td>3</td>\n",
       "      <td>...</td>\n",
       "      <td>0</td>\n",
       "      <td>1</td>\n",
       "      <td>0</td>\n",
       "      <td>0</td>\n",
       "      <td>0</td>\n",
       "      <td>0</td>\n",
       "      <td>0</td>\n",
       "      <td>1</td>\n",
       "      <td>0</td>\n",
       "      <td>0</td>\n",
       "    </tr>\n",
       "    <tr>\n",
       "      <th>513</th>\n",
       "      <td>20</td>\n",
       "      <td>1</td>\n",
       "      <td>1362</td>\n",
       "      <td>10</td>\n",
       "      <td>1</td>\n",
       "      <td>701</td>\n",
       "      <td>4</td>\n",
       "      <td>32</td>\n",
       "      <td>3</td>\n",
       "      <td>1</td>\n",
       "      <td>...</td>\n",
       "      <td>0</td>\n",
       "      <td>0</td>\n",
       "      <td>0</td>\n",
       "      <td>0</td>\n",
       "      <td>1</td>\n",
       "      <td>0</td>\n",
       "      <td>0</td>\n",
       "      <td>0</td>\n",
       "      <td>1</td>\n",
       "      <td>0</td>\n",
       "    </tr>\n",
       "    <tr>\n",
       "      <th>288</th>\n",
       "      <td>26</td>\n",
       "      <td>1</td>\n",
       "      <td>1449</td>\n",
       "      <td>16</td>\n",
       "      <td>4</td>\n",
       "      <td>394</td>\n",
       "      <td>1</td>\n",
       "      <td>45</td>\n",
       "      <td>3</td>\n",
       "      <td>1</td>\n",
       "      <td>...</td>\n",
       "      <td>1</td>\n",
       "      <td>0</td>\n",
       "      <td>0</td>\n",
       "      <td>0</td>\n",
       "      <td>0</td>\n",
       "      <td>0</td>\n",
       "      <td>0</td>\n",
       "      <td>0</td>\n",
       "      <td>0</td>\n",
       "      <td>0</td>\n",
       "    </tr>\n",
       "  </tbody>\n",
       "</table>\n",
       "<p>5 rows × 46 columns</p>\n",
       "</div>"
      ],
      "text/plain": [
       "     Age  Attrition  DailyRate  DistanceFromHome  Education  EmployeeNumber  \\\n",
       "83    38          0        573                 6          3             107   \n",
       "157   58          0       1145                 9          3             214   \n",
       "435   33          1       1277                15          1             582   \n",
       "513   20          1       1362                10          1             701   \n",
       "288   26          1       1449                16          4             394   \n",
       "\n",
       "     EnvironmentSatisfaction  HourlyRate  JobInvolvement  JobLevel  \\\n",
       "83                         2          79               1         2   \n",
       "157                        2          75               2         1   \n",
       "435                        2          56               3         3   \n",
       "513                        4          32               3         1   \n",
       "288                        1          45               3         1   \n",
       "\n",
       "        ...       JobRole_Laboratory Technician  JobRole_Manager  \\\n",
       "83      ...                                   0                0   \n",
       "157     ...                                   0                0   \n",
       "435     ...                                   0                1   \n",
       "513     ...                                   0                0   \n",
       "288     ...                                   1                0   \n",
       "\n",
       "     JobRole_Manufacturing Director  JobRole_Research Director  \\\n",
       "83                                0                          0   \n",
       "157                               0                          0   \n",
       "435                               0                          0   \n",
       "513                               0                          0   \n",
       "288                               0                          0   \n",
       "\n",
       "     JobRole_Research Scientist  JobRole_Sales Executive  \\\n",
       "83                            1                        0   \n",
       "157                           1                        0   \n",
       "435                           0                        0   \n",
       "513                           1                        0   \n",
       "288                           0                        0   \n",
       "\n",
       "     JobRole_Sales Representative  MaritalStatus_Married  \\\n",
       "83                              0                      0   \n",
       "157                             0                      1   \n",
       "435                             0                      1   \n",
       "513                             0                      0   \n",
       "288                             0                      0   \n",
       "\n",
       "     MaritalStatus_Single  OverTime_No  \n",
       "83                      0            0  \n",
       "157                     0            0  \n",
       "435                     0            0  \n",
       "513                     1            0  \n",
       "288                     0            0  \n",
       "\n",
       "[5 rows x 46 columns]"
      ]
     },
     "execution_count": 86,
     "metadata": {},
     "output_type": "execute_result"
    }
   ],
   "source": [
    "hr_balanced.head()"
   ]
  },
  {
   "cell_type": "code",
   "execution_count": 87,
   "metadata": {},
   "outputs": [],
   "source": [
    "hr_bl_train,hr_bl__test,target_train,target_test=train_test_split(hr_balanced[hr_balanced.columns.difference(['EmployeeNumber','Attrition'])],hr_balanced['Attrition'],test_size=0.3,random_state=10)"
   ]
  },
  {
   "cell_type": "code",
   "execution_count": 88,
   "metadata": {},
   "outputs": [
    {
     "data": {
      "text/plain": [
       "GridSearchCV(cv=10, error_score='raise-deprecating',\n",
       "             estimator=LogisticRegression(C=1.0, class_weight=None, dual=False,\n",
       "                                          fit_intercept=True,\n",
       "                                          intercept_scaling=1, l1_ratio=None,\n",
       "                                          max_iter=100, multi_class='warn',\n",
       "                                          n_jobs=None, penalty='l2',\n",
       "                                          random_state=None, solver='warn',\n",
       "                                          tol=0.0001, verbose=0,\n",
       "                                          warm_start=False),\n",
       "             iid='warn', n_jobs=-1,\n",
       "             param_grid={'C': [0.0001, 0.001, 0.01, 0.1, 1, 10],\n",
       "                         'penalty': ['l1', 'l2']},\n",
       "             pre_dispatch='2*n_jobs', refit=True, return_train_score=False,\n",
       "             scoring='accuracy', verbose=0)"
      ]
     },
     "execution_count": 88,
     "metadata": {},
     "output_type": "execute_result"
    }
   ],
   "source": [
    "#Applying Logistic Regression\n",
    "parameter_grid={'C':[0.0001,0.001,0.01,.1,1,10],\n",
    "               'penalty':['l1','l2']}\n",
    "log_reg=LogisticRegression()\n",
    "\n",
    "classifier_logreg=GridSearchCV(estimator=log_reg,param_grid=parameter_grid,n_jobs=-1,scoring='accuracy',cv=10)\n",
    "\n",
    "classifier_logreg.fit(hr_bl_train,target_train)"
   ]
  },
  {
   "cell_type": "code",
   "execution_count": 89,
   "metadata": {},
   "outputs": [
    {
     "data": {
      "text/plain": [
       "{'C': 10, 'penalty': 'l2'}"
      ]
     },
     "execution_count": 89,
     "metadata": {},
     "output_type": "execute_result"
    }
   ],
   "source": [
    "classifier_logreg.best_params_"
   ]
  },
  {
   "cell_type": "code",
   "execution_count": 90,
   "metadata": {},
   "outputs": [],
   "source": [
    "logreg_predict=classifier_logreg.best_estimator_.predict(hr_bl__test)"
   ]
  },
  {
   "cell_type": "code",
   "execution_count": 91,
   "metadata": {},
   "outputs": [],
   "source": [
    "fpr,tpr,thresh=roc_curve(target_test,logreg_predict)"
   ]
  },
  {
   "cell_type": "code",
   "execution_count": 92,
   "metadata": {},
   "outputs": [
    {
     "data": {
      "text/plain": [
       "0.7714596518987342"
      ]
     },
     "execution_count": 92,
     "metadata": {},
     "output_type": "execute_result"
    }
   ],
   "source": [
    "auc(fpr,tpr)"
   ]
  },
  {
   "cell_type": "code",
   "execution_count": 93,
   "metadata": {},
   "outputs": [
    {
     "name": "stdout",
     "output_type": "stream",
     "text": [
      "              precision    recall  f1-score   support\n",
      "\n",
      "           0       0.86      0.68      0.76        79\n",
      "           1       0.69      0.86      0.76        64\n",
      "\n",
      "    accuracy                           0.76       143\n",
      "   macro avg       0.77      0.77      0.76       143\n",
      "weighted avg       0.78      0.76      0.76       143\n",
      "\n"
     ]
    }
   ],
   "source": [
    "print(classification_report(target_test,logreg_predict))"
   ]
  },
  {
   "cell_type": "code",
   "execution_count": 94,
   "metadata": {},
   "outputs": [],
   "source": [
    "# The accuracy has come down....but area under the curve has improved so has the recall , precision for Attrition=1"
   ]
  },
  {
   "cell_type": "code",
   "execution_count": 95,
   "metadata": {},
   "outputs": [],
   "source": [
    "#For these class imbalanced problems for Employee Attrition ...a penalty should be imposed on classifying a 1 (Attrition ) as 0 (No Attrition)"
   ]
  },
  {
   "cell_type": "markdown",
   "metadata": {},
   "source": [
    "##### Random Forests with balanced data set ( majority class downsampled)"
   ]
  },
  {
   "cell_type": "code",
   "execution_count": 96,
   "metadata": {},
   "outputs": [],
   "source": [
    "import time\n",
    "import numpy as np"
   ]
  },
  {
   "cell_type": "code",
   "execution_count": 97,
   "metadata": {},
   "outputs": [
    {
     "name": "stdout",
     "output_type": "stream",
     "text": [
      "{'n_estimators': array([200, 300, 400, 500]), 'min_samples_leaf': [2, 5, 10], 'min_samples_split': [2, 5, 10]}\n",
      "65.94231057167053\n"
     ]
    }
   ],
   "source": [
    "parameter_grid={'n_estimators':np.arange(200,600,100),\n",
    "                'min_samples_leaf':[2,5,10],\n",
    "                'min_samples_split':[2,5,10],\n",
    "               }\n",
    "\n",
    "print(parameter_grid)\n",
    "rf=RandomForestClassifier(n_jobs=-1,random_state=10)\n",
    "classifier_rf=GridSearchCV( estimator=rf,\n",
    "                     param_grid=parameter_grid,\n",
    "                          scoring='accuracy',\n",
    "                          cv=5) \n",
    "                         \n",
    "t1=time.time()\n",
    "classifier_rf.fit(hr_bl_train,target_train)\n",
    "t2=time.time()\n",
    "print(t2-t1)"
   ]
  },
  {
   "cell_type": "code",
   "execution_count": 98,
   "metadata": {},
   "outputs": [
    {
     "data": {
      "text/plain": [
       "{'min_samples_leaf': 5, 'min_samples_split': 2, 'n_estimators': 400}"
      ]
     },
     "execution_count": 98,
     "metadata": {},
     "output_type": "execute_result"
    }
   ],
   "source": [
    "classifier_rf.best_params_"
   ]
  },
  {
   "cell_type": "code",
   "execution_count": 99,
   "metadata": {},
   "outputs": [
    {
     "name": "stdout",
     "output_type": "stream",
     "text": [
      "{'n_estimators': [350, 400, 450, 1000], 'min_samples_leaf': [2, 5, 10], 'min_samples_split': [2, 5, 10]}\n",
      "91.2315468788147\n"
     ]
    }
   ],
   "source": [
    "parameter_grid={'n_estimators':[350,400,450,1000],\n",
    "                'min_samples_leaf':[2,5,10],\n",
    "                'min_samples_split':[2,5,10],\n",
    "               }\n",
    "\n",
    "print(parameter_grid)\n",
    "rf=RandomForestClassifier(n_jobs=-1,random_state=10)\n",
    "classifier_rf=GridSearchCV( estimator=rf,\n",
    "                     param_grid=parameter_grid,\n",
    "                          scoring='accuracy',\n",
    "                          cv=5) \n",
    "                         \n",
    "t1=time.time()\n",
    "classifier_rf.fit(hr_bl_train,target_train)\n",
    "t2=time.time()\n",
    "print(t2-t1)"
   ]
  },
  {
   "cell_type": "code",
   "execution_count": 100,
   "metadata": {},
   "outputs": [
    {
     "data": {
      "text/plain": [
       "{'min_samples_leaf': 2, 'min_samples_split': 10, 'n_estimators': 350}"
      ]
     },
     "execution_count": 100,
     "metadata": {},
     "output_type": "execute_result"
    }
   ],
   "source": [
    "classifier_rf.best_params_"
   ]
  },
  {
   "cell_type": "code",
   "execution_count": 101,
   "metadata": {},
   "outputs": [
    {
     "name": "stdout",
     "output_type": "stream",
     "text": [
      "Fitting 5 folds for each of 10 candidates, totalling 50 fits\n"
     ]
    },
    {
     "name": "stderr",
     "output_type": "stream",
     "text": [
      "[Parallel(n_jobs=1)]: Using backend SequentialBackend with 1 concurrent workers.\n",
      "[Parallel(n_jobs=1)]: Done  50 out of  50 | elapsed:   18.3s finished\n"
     ]
    },
    {
     "name": "stdout",
     "output_type": "stream",
     "text": [
      "18.713313341140747\n"
     ]
    }
   ],
   "source": [
    "#Tuning Max_depth\n",
    "rf=RandomForestClassifier(n_estimators=350,min_samples_leaf=2,min_samples_split=10,n_jobs=-1,random_state=10)\n",
    "max_d=np.arange(10,110,10)\n",
    "#max_d.append(None)\n",
    "parameter_grid={'max_depth':max_d}\n",
    "classifier_rf=GridSearchCV(estimator=rf,param_grid=parameter_grid,scoring='accuracy',cv=5,verbose=1)  \n",
    "\n",
    "t1=time.time()\n",
    "classifier_rf.fit(hr_bl_train,target_train)\n",
    "t2=time.time()\n",
    "\n",
    "print(t2-t1)"
   ]
  },
  {
   "cell_type": "code",
   "execution_count": 102,
   "metadata": {},
   "outputs": [
    {
     "data": {
      "text/plain": [
       "{'max_depth': 10}"
      ]
     },
     "execution_count": 102,
     "metadata": {},
     "output_type": "execute_result"
    }
   ],
   "source": [
    "classifier_rf.best_params_"
   ]
  },
  {
   "cell_type": "code",
   "execution_count": 103,
   "metadata": {},
   "outputs": [
    {
     "name": "stdout",
     "output_type": "stream",
     "text": [
      "Fitting 5 folds for each of 2 candidates, totalling 10 fits\n"
     ]
    },
    {
     "name": "stderr",
     "output_type": "stream",
     "text": [
      "[Parallel(n_jobs=1)]: Using backend SequentialBackend with 1 concurrent workers.\n",
      "[Parallel(n_jobs=1)]: Done  10 out of  10 | elapsed:    3.7s finished\n"
     ]
    },
    {
     "name": "stdout",
     "output_type": "stream",
     "text": [
      "4.125391721725464\n"
     ]
    }
   ],
   "source": [
    "#Honing in on Max Depth\n",
    "rf=RandomForestClassifier(n_estimators=350,min_samples_leaf=2,min_samples_split=10,n_jobs=-1,random_state=10)\n",
    "max_d=[10]\n",
    "max_d.append(None)\n",
    "parameter_grid={'max_depth':max_d}\n",
    "classifier_rf=GridSearchCV(estimator=rf,param_grid=parameter_grid,scoring='accuracy',cv=5,verbose=1)  \n",
    "\n",
    "t1=time.time()\n",
    "classifier_rf.fit(hr_bl_train,target_train)\n",
    "t2=time.time()\n",
    "\n",
    "print(t2-t1)"
   ]
  },
  {
   "cell_type": "code",
   "execution_count": 104,
   "metadata": {},
   "outputs": [
    {
     "data": {
      "text/plain": [
       "{'max_depth': 10}"
      ]
     },
     "execution_count": 104,
     "metadata": {},
     "output_type": "execute_result"
    }
   ],
   "source": [
    "classifier_rf.best_params_"
   ]
  },
  {
   "cell_type": "code",
   "execution_count": 105,
   "metadata": {},
   "outputs": [
    {
     "name": "stdout",
     "output_type": "stream",
     "text": [
      "15.526328325271606\n"
     ]
    }
   ],
   "source": [
    "parameter_grid={'bootstrap':[True,False],\n",
    "               'max_features':['auto','sqrt'],\n",
    "               'criterion':['gini','entropy']}\n",
    "rf=RandomForestClassifier(n_estimators=350, n_jobs=-1,min_samples_leaf=2, min_samples_split=10,max_depth=10,random_state=10)\n",
    "classifier_rf=GridSearchCV(estimator=rf,param_grid=parameter_grid,scoring='accuracy',cv=5)\n",
    "\n",
    "t1=time.time()\n",
    "classifier_rf.fit(hr_bl_train,target_train)\n",
    "t2=time.time()\n",
    "\n",
    "print(t2-t1)"
   ]
  },
  {
   "cell_type": "code",
   "execution_count": 106,
   "metadata": {},
   "outputs": [
    {
     "data": {
      "text/plain": [
       "{'bootstrap': True, 'criterion': 'gini', 'max_features': 'auto'}"
      ]
     },
     "execution_count": 106,
     "metadata": {},
     "output_type": "execute_result"
    }
   ],
   "source": [
    "classifier_rf.best_params_"
   ]
  },
  {
   "cell_type": "code",
   "execution_count": 107,
   "metadata": {},
   "outputs": [],
   "source": [
    "rf_pred=classifier_rf.best_estimator_.predict(hr_bl__test)"
   ]
  },
  {
   "cell_type": "code",
   "execution_count": 108,
   "metadata": {},
   "outputs": [],
   "source": [
    "fpr,tpr,thresh=roc_curve(target_test,rf_pred)"
   ]
  },
  {
   "cell_type": "code",
   "execution_count": 109,
   "metadata": {},
   "outputs": [
    {
     "data": {
      "text/plain": [
       "0.7212223101265823"
      ]
     },
     "execution_count": 109,
     "metadata": {},
     "output_type": "execute_result"
    }
   ],
   "source": [
    "auc(fpr,tpr)"
   ]
  },
  {
   "cell_type": "code",
   "execution_count": 110,
   "metadata": {},
   "outputs": [
    {
     "name": "stdout",
     "output_type": "stream",
     "text": [
      "              precision    recall  f1-score   support\n",
      "\n",
      "           0       0.80      0.65      0.71        79\n",
      "           1       0.65      0.80      0.71        64\n",
      "\n",
      "    accuracy                           0.71       143\n",
      "   macro avg       0.72      0.72      0.71       143\n",
      "weighted avg       0.73      0.71      0.71       143\n",
      "\n"
     ]
    }
   ],
   "source": [
    "print(classification_report(target_test,rf_pred))"
   ]
  },
  {
   "cell_type": "code",
   "execution_count": 111,
   "metadata": {},
   "outputs": [],
   "source": [
    "# Logistic Regression outdoes RandomForest on the balanced data set!!"
   ]
  },
  {
   "cell_type": "markdown",
   "metadata": {},
   "source": [
    "##### RandomForest with SMOTEd data "
   ]
  },
  {
   "cell_type": "code",
   "execution_count": 112,
   "metadata": {},
   "outputs": [
    {
     "name": "stdout",
     "output_type": "stream",
     "text": [
      "{'n_estimators': array([200, 300, 400, 500]), 'min_samples_leaf': [2, 5, 10], 'min_samples_split': [2, 5, 10]}\n",
      "81.35230851173401\n"
     ]
    }
   ],
   "source": [
    "# Trying Random Forest on SMOTEd data set\n",
    "parameter_grid={'n_estimators':np.arange(200,600,100),\n",
    "                'min_samples_leaf':[2,5,10],\n",
    "                'min_samples_split':[2,5,10],\n",
    "               }\n",
    "\n",
    "print(parameter_grid)\n",
    "rf=RandomForestClassifier(n_jobs=-1,random_state=0)\n",
    "classifier_rf_smote=GridSearchCV( estimator=rf,\n",
    "                     param_grid=parameter_grid,\n",
    "                          scoring='accuracy',\n",
    "                          cv=5) \n",
    "                         \n",
    "t1=time.time()\n",
    "classifier_rf_smote.fit(SMOTE_train,SMOTE_target)\n",
    "t2=time.time()\n",
    "print(t2-t1)"
   ]
  },
  {
   "cell_type": "code",
   "execution_count": 113,
   "metadata": {},
   "outputs": [
    {
     "data": {
      "text/plain": [
       "{'min_samples_leaf': 2, 'min_samples_split': 2, 'n_estimators': 400}"
      ]
     },
     "execution_count": 113,
     "metadata": {},
     "output_type": "execute_result"
    }
   ],
   "source": [
    " classifier_rf_smote.best_params_"
   ]
  },
  {
   "cell_type": "code",
   "execution_count": 114,
   "metadata": {},
   "outputs": [
    {
     "name": "stdout",
     "output_type": "stream",
     "text": [
      "{'n_estimators': [250, 300, 350, 1000], 'min_samples_leaf': [2, 5, 10], 'min_samples_split': [2, 5, 10]}\n",
      "104.95068860054016\n"
     ]
    }
   ],
   "source": [
    "parameter_grid={'n_estimators':[250,300,350,1000],\n",
    "                'min_samples_leaf':[2,5,10],\n",
    "                'min_samples_split':[2,5,10],\n",
    "               }\n",
    "\n",
    "print(parameter_grid)\n",
    "rf=RandomForestClassifier(n_jobs=-1,random_state=0)\n",
    "classifier_rf_smote=GridSearchCV( estimator=rf,\n",
    "                     param_grid=parameter_grid,\n",
    "                          scoring='accuracy',\n",
    "                          cv=5) \n",
    "                         \n",
    "t1=time.time()\n",
    "classifier_rf_smote.fit(SMOTE_train,SMOTE_target)\n",
    "t2=time.time()\n",
    "print(t2-t1)"
   ]
  },
  {
   "cell_type": "code",
   "execution_count": 115,
   "metadata": {},
   "outputs": [
    {
     "data": {
      "text/plain": [
       "{'min_samples_leaf': 2, 'min_samples_split': 2, 'n_estimators': 1000}"
      ]
     },
     "execution_count": 115,
     "metadata": {},
     "output_type": "execute_result"
    }
   ],
   "source": [
    "classifier_rf_smote.best_params_"
   ]
  },
  {
   "cell_type": "code",
   "execution_count": 116,
   "metadata": {},
   "outputs": [
    {
     "name": "stdout",
     "output_type": "stream",
     "text": [
      "Fitting 5 folds for each of 10 candidates, totalling 50 fits\n"
     ]
    },
    {
     "name": "stderr",
     "output_type": "stream",
     "text": [
      "[Parallel(n_jobs=1)]: Using backend SequentialBackend with 1 concurrent workers.\n",
      "[Parallel(n_jobs=1)]: Done  50 out of  50 | elapsed:   58.5s finished\n"
     ]
    },
    {
     "name": "stdout",
     "output_type": "stream",
     "text": [
      "59.91071891784668\n"
     ]
    }
   ],
   "source": [
    "#Tuning Max_depth\n",
    "rf=RandomForestClassifier(n_estimators=1000,min_samples_leaf=2,min_samples_split=2,n_jobs=-1,random_state=10)\n",
    "max_d=np.arange(10,110,10)\n",
    "#max_d.append(None)\n",
    "parameter_grid={'max_depth':max_d}\n",
    "classifier_rf_smote=GridSearchCV(estimator=rf,param_grid=parameter_grid,scoring='accuracy',cv=5,verbose=1)  \n",
    "\n",
    "t1=time.time()\n",
    "classifier_rf_smote.fit(SMOTE_train,SMOTE_target)\n",
    "t2=time.time()\n",
    "\n",
    "print(t2-t1)"
   ]
  },
  {
   "cell_type": "code",
   "execution_count": 117,
   "metadata": {},
   "outputs": [
    {
     "data": {
      "text/plain": [
       "{'max_depth': 20}"
      ]
     },
     "execution_count": 117,
     "metadata": {},
     "output_type": "execute_result"
    }
   ],
   "source": [
    "classifier_rf_smote.best_params_"
   ]
  },
  {
   "cell_type": "code",
   "execution_count": 118,
   "metadata": {},
   "outputs": [
    {
     "name": "stdout",
     "output_type": "stream",
     "text": [
      "Fitting 5 folds for each of 2 candidates, totalling 10 fits\n"
     ]
    },
    {
     "name": "stderr",
     "output_type": "stream",
     "text": [
      "[Parallel(n_jobs=1)]: Using backend SequentialBackend with 1 concurrent workers.\n",
      "[Parallel(n_jobs=1)]: Done  10 out of  10 | elapsed:   11.8s finished\n"
     ]
    },
    {
     "name": "stdout",
     "output_type": "stream",
     "text": [
      "13.189852237701416\n"
     ]
    }
   ],
   "source": [
    "rf=RandomForestClassifier(n_estimators=1000,min_samples_leaf=2,min_samples_split=2,n_jobs=-1,random_state=10)\n",
    "max_d=[20]\n",
    "max_d.append(None)\n",
    "parameter_grid={'max_depth':max_d}\n",
    "classifier_rf_smote=GridSearchCV(estimator=rf,param_grid=parameter_grid,scoring='accuracy',cv=5,verbose=1)  \n",
    "\n",
    "t1=time.time()\n",
    "classifier_rf_smote.fit(SMOTE_train,SMOTE_target)\n",
    "t2=time.time()\n",
    "\n",
    "print(t2-t1)"
   ]
  },
  {
   "cell_type": "code",
   "execution_count": 119,
   "metadata": {},
   "outputs": [
    {
     "data": {
      "text/plain": [
       "{'max_depth': 20}"
      ]
     },
     "execution_count": 119,
     "metadata": {},
     "output_type": "execute_result"
    }
   ],
   "source": [
    "classifier_rf_smote.best_params_"
   ]
  },
  {
   "cell_type": "code",
   "execution_count": 120,
   "metadata": {},
   "outputs": [
    {
     "name": "stdout",
     "output_type": "stream",
     "text": [
      "52.061795473098755\n"
     ]
    }
   ],
   "source": [
    "parameter_grid={'bootstrap':[True,False],\n",
    "               'max_features':['auto','sqrt'],\n",
    "               'criterion':['gini','entropy']}\n",
    "rf=RandomForestClassifier(n_estimators=1000, n_jobs=-1,min_samples_leaf=2, min_samples_split=2,max_depth=20,random_state=10)\n",
    "classifier_rf_smote=GridSearchCV(estimator=rf,param_grid=parameter_grid,scoring='accuracy',cv=5)\n",
    "\n",
    "t1=time.time()\n",
    "classifier_rf_smote.fit(SMOTE_train,SMOTE_target)\n",
    "t2=time.time()\n",
    "\n",
    "print(t2-t1)"
   ]
  },
  {
   "cell_type": "code",
   "execution_count": 121,
   "metadata": {},
   "outputs": [
    {
     "data": {
      "text/plain": [
       "{'bootstrap': False, 'criterion': 'gini', 'max_features': 'auto'}"
      ]
     },
     "execution_count": 121,
     "metadata": {},
     "output_type": "execute_result"
    }
   ],
   "source": [
    "classifier_rf_smote.best_params_"
   ]
  },
  {
   "cell_type": "code",
   "execution_count": 122,
   "metadata": {},
   "outputs": [],
   "source": [
    "rf_pred_smote=classifier_rf_smote.best_estimator_.predict(X_test)"
   ]
  },
  {
   "cell_type": "code",
   "execution_count": 123,
   "metadata": {},
   "outputs": [],
   "source": [
    "fpr,tpr,thresh=roc_curve(y_test,rf_pred_smote)"
   ]
  },
  {
   "cell_type": "code",
   "execution_count": 124,
   "metadata": {},
   "outputs": [
    {
     "data": {
      "text/plain": [
       "0.6127450980392156"
      ]
     },
     "execution_count": 124,
     "metadata": {},
     "output_type": "execute_result"
    }
   ],
   "source": [
    "auc(fpr,tpr)"
   ]
  },
  {
   "cell_type": "code",
   "execution_count": 125,
   "metadata": {},
   "outputs": [
    {
     "name": "stdout",
     "output_type": "stream",
     "text": [
      "              precision    recall  f1-score   support\n",
      "\n",
      "           0       0.85      0.96      0.90       357\n",
      "           1       0.63      0.26      0.37        84\n",
      "\n",
      "    accuracy                           0.83       441\n",
      "   macro avg       0.74      0.61      0.64       441\n",
      "weighted avg       0.81      0.83      0.80       441\n",
      "\n"
     ]
    }
   ],
   "source": [
    "print(classification_report(y_test,rf_pred_smote))"
   ]
  },
  {
   "cell_type": "code",
   "execution_count": 126,
   "metadata": {},
   "outputs": [],
   "source": [
    "# We see that the accuracy is good, but ROC is reduced to 0.61...moreover recall is very low (.32) when Attrition occurs (target=1)"
   ]
  },
  {
   "cell_type": "markdown",
   "metadata": {},
   "source": [
    "###### XGBOOST with balanced data"
   ]
  },
  {
   "cell_type": "code",
   "execution_count": 127,
   "metadata": {},
   "outputs": [],
   "source": [
    "xgb_model=xgboost.XGBClassifier(n_estimators=1000,objective='binary:logistic')"
   ]
  },
  {
   "cell_type": "code",
   "execution_count": 128,
   "metadata": {},
   "outputs": [
    {
     "name": "stdout",
     "output_type": "stream",
     "text": [
      "Fitting 5 folds for each of 12 candidates, totalling 60 fits\n"
     ]
    },
    {
     "name": "stderr",
     "output_type": "stream",
     "text": [
      "[Parallel(n_jobs=-1)]: Using backend LokyBackend with 8 concurrent workers.\n",
      "[Parallel(n_jobs=-1)]: Done  34 tasks      | elapsed:    3.1s\n",
      "[Parallel(n_jobs=-1)]: Done  60 out of  60 | elapsed:    4.8s finished\n"
     ]
    },
    {
     "name": "stdout",
     "output_type": "stream",
     "text": [
      "5.270762205123901\n"
     ]
    }
   ],
   "source": [
    "#Starting tuning with max_depth and min_child_weight\n",
    "params=dict(max_depth=np.arange(3,11,2),min_child_weight=np.arange(5,11,2))\n",
    "xgb_classifier=GridSearchCV(estimator=xgb_model, param_grid=params, n_jobs=-1, \n",
    "                   cv=5, \n",
    "                   scoring='accuracy',\n",
    "                   verbose=1)\n",
    "t1=time.time()\n",
    "xgb_classifier.fit(hr_bl_train,target_train)\n",
    "t2=time.time()\n",
    "\n",
    "print(t2-t1)"
   ]
  },
  {
   "cell_type": "code",
   "execution_count": 129,
   "metadata": {},
   "outputs": [
    {
     "data": {
      "text/plain": [
       "{'max_depth': 3, 'min_child_weight': 9}"
      ]
     },
     "execution_count": 129,
     "metadata": {},
     "output_type": "execute_result"
    }
   ],
   "source": [
    "xgb_classifier.best_params_"
   ]
  },
  {
   "cell_type": "code",
   "execution_count": 130,
   "metadata": {},
   "outputs": [
    {
     "name": "stdout",
     "output_type": "stream",
     "text": [
      "Fitting 5 folds for each of 16 candidates, totalling 80 fits\n"
     ]
    },
    {
     "name": "stderr",
     "output_type": "stream",
     "text": [
      "[Parallel(n_jobs=-1)]: Using backend LokyBackend with 8 concurrent workers.\n",
      "[Parallel(n_jobs=-1)]: Done  34 tasks      | elapsed:    2.9s\n",
      "[Parallel(n_jobs=-1)]: Done  80 out of  80 | elapsed:    6.1s finished\n"
     ]
    },
    {
     "name": "stdout",
     "output_type": "stream",
     "text": [
      "6.554605007171631\n"
     ]
    }
   ],
   "source": [
    "#Honing in...\n",
    "params=dict(max_depth=[3,4,6,8],min_child_weight=[6,8,9,10])\n",
    "xgb_classifier=GridSearchCV(estimator=xgb_model, param_grid=params, n_jobs=-1, \n",
    "                   cv=5, \n",
    "                   scoring='accuracy',\n",
    "                   verbose=1)\n",
    "t1=time.time()\n",
    "xgb_classifier.fit(hr_bl_train,target_train)\n",
    "t2=time.time()\n",
    "\n",
    "print(t2-t1)"
   ]
  },
  {
   "cell_type": "code",
   "execution_count": 131,
   "metadata": {},
   "outputs": [
    {
     "data": {
      "text/plain": [
       "{'max_depth': 3, 'min_child_weight': 9}"
      ]
     },
     "execution_count": 131,
     "metadata": {},
     "output_type": "execute_result"
    }
   ],
   "source": [
    "xgb_classifier.best_params_"
   ]
  },
  {
   "cell_type": "code",
   "execution_count": 132,
   "metadata": {},
   "outputs": [
    {
     "data": {
      "text/plain": [
       "[{'max_depth': 3, 'min_child_weight': 6},\n",
       " {'max_depth': 3, 'min_child_weight': 8},\n",
       " {'max_depth': 3, 'min_child_weight': 9},\n",
       " {'max_depth': 3, 'min_child_weight': 10},\n",
       " {'max_depth': 4, 'min_child_weight': 6},\n",
       " {'max_depth': 4, 'min_child_weight': 8},\n",
       " {'max_depth': 4, 'min_child_weight': 9},\n",
       " {'max_depth': 4, 'min_child_weight': 10},\n",
       " {'max_depth': 6, 'min_child_weight': 6},\n",
       " {'max_depth': 6, 'min_child_weight': 8},\n",
       " {'max_depth': 6, 'min_child_weight': 9},\n",
       " {'max_depth': 6, 'min_child_weight': 10},\n",
       " {'max_depth': 8, 'min_child_weight': 6},\n",
       " {'max_depth': 8, 'min_child_weight': 8},\n",
       " {'max_depth': 8, 'min_child_weight': 9},\n",
       " {'max_depth': 8, 'min_child_weight': 10}]"
      ]
     },
     "execution_count": 132,
     "metadata": {},
     "output_type": "execute_result"
    }
   ],
   "source": [
    "xgb_classifier.cv_results_['params']"
   ]
  },
  {
   "cell_type": "code",
   "execution_count": 133,
   "metadata": {},
   "outputs": [
    {
     "name": "stdout",
     "output_type": "stream",
     "text": [
      "{'colsample_bytree': array([0.3, 0.4, 0.5, 0.6, 0.7, 0.8, 0.9]), 'subsample': array([0.8, 0.9])}\n",
      "Fitting 5 folds for each of 14 candidates, totalling 70 fits\n"
     ]
    },
    {
     "name": "stderr",
     "output_type": "stream",
     "text": [
      "[Parallel(n_jobs=-1)]: Using backend LokyBackend with 8 concurrent workers.\n",
      "[Parallel(n_jobs=-1)]: Done  34 tasks      | elapsed:    1.8s\n",
      "[Parallel(n_jobs=-1)]: Done  70 out of  70 | elapsed:    3.8s finished\n"
     ]
    },
    {
     "name": "stdout",
     "output_type": "stream",
     "text": [
      "4.175626277923584\n"
     ]
    }
   ],
   "source": [
    "# Tuning colsample_bytree, and subsample...\n",
    "params=dict(colsample_bytree=np.arange(0.3,1,.1),subsample=np.arange(0.8,1,.1))\n",
    "print(params)\n",
    "xgb_classifier=GridSearchCV(estimator=xgboost.XGBClassifier(n_estimators=1000,min_child_weight=9,max_depth=3), param_grid=params, n_jobs=-1, \n",
    "                   cv=5, \n",
    "                   scoring='accuracy',\n",
    "                   verbose=1)\n",
    "t1=time.time()\n",
    "xgb_classifier.fit(hr_bl_train,target_train)\n",
    "t2=time.time()\n",
    "\n",
    "print(t2-t1)"
   ]
  },
  {
   "cell_type": "code",
   "execution_count": 134,
   "metadata": {},
   "outputs": [
    {
     "data": {
      "text/plain": [
       "{'colsample_bytree': 0.7000000000000002, 'subsample': 0.9}"
      ]
     },
     "execution_count": 134,
     "metadata": {},
     "output_type": "execute_result"
    }
   ],
   "source": [
    "xgb_classifier.best_params_"
   ]
  },
  {
   "cell_type": "code",
   "execution_count": 135,
   "metadata": {},
   "outputs": [
    {
     "name": "stdout",
     "output_type": "stream",
     "text": [
      "{'learning_rate': [0.3, 0.2, 0.1, 0.05, 0.01]}\n",
      "Fitting 5 folds for each of 5 candidates, totalling 25 fits\n"
     ]
    },
    {
     "name": "stderr",
     "output_type": "stream",
     "text": [
      "[Parallel(n_jobs=-1)]: Using backend LokyBackend with 8 concurrent workers.\n",
      "[Parallel(n_jobs=-1)]: Done  25 out of  25 | elapsed:    1.7s finished\n"
     ]
    },
    {
     "name": "stdout",
     "output_type": "stream",
     "text": [
      "2.020892381668091\n"
     ]
    }
   ],
   "source": [
    "# Now, let us tune the learning rate\n",
    "params=dict(learning_rate=[0.3,0.2,0.1,0.05,0.01])\n",
    "print(params)\n",
    "xgb_classifier=GridSearchCV(estimator=xgboost.XGBClassifier(n_estimators=1000,min_child_weight=9,max_depth=3,colsample_bytree=0.7,subsample=0.9), param_grid=params, n_jobs=-1, \n",
    "                   cv=5, \n",
    "                   scoring='accuracy',\n",
    "                   verbose=1)\n",
    "t1=time.time()\n",
    "xgb_classifier.fit(hr_bl_train,target_train)\n",
    "t2=time.time()\n",
    "\n",
    "print(t2-t1)"
   ]
  },
  {
   "cell_type": "code",
   "execution_count": 136,
   "metadata": {},
   "outputs": [
    {
     "data": {
      "text/plain": [
       "{'learning_rate': 0.1}"
      ]
     },
     "execution_count": 136,
     "metadata": {},
     "output_type": "execute_result"
    }
   ],
   "source": [
    "xgb_classifier.best_params_"
   ]
  },
  {
   "cell_type": "code",
   "execution_count": 137,
   "metadata": {},
   "outputs": [
    {
     "data": {
      "text/plain": [
       "XGBClassifier(base_score=0.5, booster='gbtree', colsample_bylevel=1,\n",
       "              colsample_bytree=0.7, gamma=0, learning_rate=0.1,\n",
       "              max_delta_step=0, max_depth=3, min_child_weight=9, missing=None,\n",
       "              n_estimators=1000, n_jobs=1, nthread=None,\n",
       "              objective='binary:logistic', random_state=0, reg_alpha=0,\n",
       "              reg_lambda=1, scale_pos_weight=1, seed=None, silent=True,\n",
       "              subsample=0.9)"
      ]
     },
     "execution_count": 137,
     "metadata": {},
     "output_type": "execute_result"
    }
   ],
   "source": [
    "xgb_classifier.best_estimator_"
   ]
  },
  {
   "cell_type": "code",
   "execution_count": 138,
   "metadata": {},
   "outputs": [],
   "source": [
    "xgb_pred=xgb_classifier.best_estimator_.predict(hr_bl__test)"
   ]
  },
  {
   "cell_type": "code",
   "execution_count": 139,
   "metadata": {},
   "outputs": [],
   "source": [
    "fpr,tpr,thresh=roc_curve(target_test,xgb_pred)"
   ]
  },
  {
   "cell_type": "code",
   "execution_count": 140,
   "metadata": {},
   "outputs": [
    {
     "data": {
      "text/plain": [
       "0.7450553797468354"
      ]
     },
     "execution_count": 140,
     "metadata": {},
     "output_type": "execute_result"
    }
   ],
   "source": [
    "auc(fpr,tpr)"
   ]
  },
  {
   "cell_type": "code",
   "execution_count": 141,
   "metadata": {},
   "outputs": [
    {
     "name": "stdout",
     "output_type": "stream",
     "text": [
      "              precision    recall  f1-score   support\n",
      "\n",
      "           0       0.80      0.71      0.75        79\n",
      "           1       0.68      0.78      0.73        64\n",
      "\n",
      "    accuracy                           0.74       143\n",
      "   macro avg       0.74      0.75      0.74       143\n",
      "weighted avg       0.75      0.74      0.74       143\n",
      "\n"
     ]
    }
   ],
   "source": [
    "print(classification_report(target_test,xgb_pred))"
   ]
  },
  {
   "cell_type": "code",
   "execution_count": 142,
   "metadata": {},
   "outputs": [],
   "source": [
    "# For the balanced data set ,Logistic Regression is still the best, followed by XGBoost, and then Random Forest"
   ]
  },
  {
   "cell_type": "markdown",
   "metadata": {},
   "source": [
    "##### XGBoost on the SMOTEd data"
   ]
  },
  {
   "cell_type": "code",
   "execution_count": 143,
   "metadata": {},
   "outputs": [],
   "source": [
    "xgb_model=xgboost.XGBClassifier(n_estimators=1000,objective='binary:logistic')"
   ]
  },
  {
   "cell_type": "code",
   "execution_count": 144,
   "metadata": {},
   "outputs": [
    {
     "name": "stdout",
     "output_type": "stream",
     "text": [
      "Fitting 5 folds for each of 12 candidates, totalling 60 fits\n"
     ]
    },
    {
     "name": "stderr",
     "output_type": "stream",
     "text": [
      "[Parallel(n_jobs=-1)]: Using backend LokyBackend with 8 concurrent workers.\n",
      "[Parallel(n_jobs=-1)]: Done  34 tasks      | elapsed:   12.6s\n",
      "[Parallel(n_jobs=-1)]: Done  60 out of  60 | elapsed:   21.5s finished\n"
     ]
    },
    {
     "name": "stdout",
     "output_type": "stream",
     "text": [
      "23.952638149261475\n"
     ]
    }
   ],
   "source": [
    "#Starting tuning with max_depth and min_child_weight\n",
    "params=dict(max_depth=np.arange(3,11,2),min_child_weight=np.arange(5,11,2))\n",
    "xgb_classifier_smote=GridSearchCV(estimator=xgb_model, param_grid=params, n_jobs=-1, \n",
    "                   cv=5, \n",
    "                   scoring='accuracy',\n",
    "                   verbose=1)\n",
    "t1=time.time()\n",
    "xgb_classifier_smote.fit(SMOTE_train,SMOTE_target)\n",
    "t2=time.time()\n",
    "\n",
    "print(t2-t1)"
   ]
  },
  {
   "cell_type": "code",
   "execution_count": 145,
   "metadata": {},
   "outputs": [
    {
     "data": {
      "text/plain": [
       "{'max_depth': 5, 'min_child_weight': 5}"
      ]
     },
     "execution_count": 145,
     "metadata": {},
     "output_type": "execute_result"
    }
   ],
   "source": [
    "xgb_classifier_smote.best_params_"
   ]
  },
  {
   "cell_type": "code",
   "execution_count": 146,
   "metadata": {},
   "outputs": [
    {
     "name": "stdout",
     "output_type": "stream",
     "text": [
      "Fitting 5 folds for each of 25 candidates, totalling 125 fits\n"
     ]
    },
    {
     "name": "stderr",
     "output_type": "stream",
     "text": [
      "[Parallel(n_jobs=-1)]: Using backend LokyBackend with 8 concurrent workers.\n",
      "[Parallel(n_jobs=-1)]: Done  34 tasks      | elapsed:   11.6s\n",
      "[Parallel(n_jobs=-1)]: Done 125 out of 125 | elapsed:   43.1s finished\n"
     ]
    },
    {
     "name": "stdout",
     "output_type": "stream",
     "text": [
      "45.55534315109253\n"
     ]
    }
   ],
   "source": [
    "#Honing in...\n",
    "params=dict(max_depth=[3,4,5,6,8],min_child_weight=[5,6,8,9,10])\n",
    "xgb_classifier_smote=GridSearchCV(estimator=xgb_model, param_grid=params, n_jobs=-1, \n",
    "                   cv=5, \n",
    "                   scoring='accuracy',\n",
    "                   verbose=1)\n",
    "t1=time.time()\n",
    "xgb_classifier_smote.fit(SMOTE_train,SMOTE_target)\n",
    "t2=time.time()\n",
    "\n",
    "print(t2-t1)"
   ]
  },
  {
   "cell_type": "code",
   "execution_count": 147,
   "metadata": {},
   "outputs": [
    {
     "data": {
      "text/plain": [
       "{'max_depth': 5, 'min_child_weight': 5}"
      ]
     },
     "execution_count": 147,
     "metadata": {},
     "output_type": "execute_result"
    }
   ],
   "source": [
    "xgb_classifier_smote.best_params_"
   ]
  },
  {
   "cell_type": "code",
   "execution_count": 148,
   "metadata": {},
   "outputs": [
    {
     "name": "stdout",
     "output_type": "stream",
     "text": [
      "{'colsample_bytree': array([0.3, 0.4, 0.5, 0.6, 0.7, 0.8, 0.9]), 'subsample': array([0.8, 0.9])}\n",
      "Fitting 5 folds for each of 14 candidates, totalling 70 fits\n"
     ]
    },
    {
     "name": "stderr",
     "output_type": "stream",
     "text": [
      "[Parallel(n_jobs=-1)]: Using backend LokyBackend with 8 concurrent workers.\n",
      "[Parallel(n_jobs=-1)]: Done  34 tasks      | elapsed:    8.8s\n",
      "[Parallel(n_jobs=-1)]: Done  70 out of  70 | elapsed:   19.6s finished\n"
     ]
    },
    {
     "name": "stdout",
     "output_type": "stream",
     "text": [
      "21.904592990875244\n"
     ]
    }
   ],
   "source": [
    "# Tuning colsample_bytree, and subsample...\n",
    "params=dict(colsample_bytree=np.arange(0.3,1,.1),subsample=np.arange(0.8,1,.1))\n",
    "print(params)\n",
    "xgb_classifier_smote=GridSearchCV(estimator=xgboost.XGBClassifier(n_estimators=1000,min_child_weight=5,max_depth=5), param_grid=params, n_jobs=-1, \n",
    "                   cv=5, \n",
    "                   scoring='accuracy',\n",
    "                   verbose=1)\n",
    "t1=time.time()\n",
    "xgb_classifier_smote.fit(SMOTE_train,SMOTE_target)\n",
    "t2=time.time()\n",
    "\n",
    "print(t2-t1)"
   ]
  },
  {
   "cell_type": "code",
   "execution_count": 149,
   "metadata": {},
   "outputs": [
    {
     "data": {
      "text/plain": [
       "{'colsample_bytree': 0.9000000000000001, 'subsample': 0.9}"
      ]
     },
     "execution_count": 149,
     "metadata": {},
     "output_type": "execute_result"
    }
   ],
   "source": [
    "xgb_classifier_smote.best_params_"
   ]
  },
  {
   "cell_type": "code",
   "execution_count": 150,
   "metadata": {},
   "outputs": [
    {
     "name": "stdout",
     "output_type": "stream",
     "text": [
      "{'learning_rate': [0.3, 0.2, 0.1, 0.05, 0.01]}\n",
      "Fitting 5 folds for each of 5 candidates, totalling 25 fits\n"
     ]
    },
    {
     "name": "stderr",
     "output_type": "stream",
     "text": [
      "[Parallel(n_jobs=-1)]: Using backend LokyBackend with 8 concurrent workers.\n",
      "[Parallel(n_jobs=-1)]: Done  25 out of  25 | elapsed:   10.4s finished\n"
     ]
    },
    {
     "name": "stdout",
     "output_type": "stream",
     "text": [
      "12.69083547592163\n"
     ]
    }
   ],
   "source": [
    "# Now, let us tune the learning rate\n",
    "params=dict(learning_rate=[0.3,0.2,0.1,0.05,0.01])\n",
    "print(params)\n",
    "xgb_classifier_smote=GridSearchCV(estimator=xgboost.XGBClassifier(n_estimators=1000,min_child_weight=5,max_depth=5,colsample_bytree=0.9,subsample=0.9), param_grid=params, n_jobs=-1, \n",
    "                   cv=5, \n",
    "                   scoring='accuracy',\n",
    "                   verbose=1)\n",
    "t1=time.time()\n",
    "xgb_classifier_smote.fit(SMOTE_train,SMOTE_target)\n",
    "t2=time.time()\n",
    "\n",
    "print(t2-t1)"
   ]
  },
  {
   "cell_type": "code",
   "execution_count": 151,
   "metadata": {},
   "outputs": [
    {
     "data": {
      "text/plain": [
       "{'learning_rate': 0.1}"
      ]
     },
     "execution_count": 151,
     "metadata": {},
     "output_type": "execute_result"
    }
   ],
   "source": [
    "xgb_classifier_smote.best_params_"
   ]
  },
  {
   "cell_type": "code",
   "execution_count": 152,
   "metadata": {},
   "outputs": [],
   "source": [
    "xgb_pred_smote=xgb_classifier_smote.predict(X_test)"
   ]
  },
  {
   "cell_type": "code",
   "execution_count": 153,
   "metadata": {},
   "outputs": [],
   "source": [
    "fpr,tpr,thresh=roc_curve(y_test,xgb_pred_smote)"
   ]
  },
  {
   "cell_type": "code",
   "execution_count": 154,
   "metadata": {},
   "outputs": [
    {
     "data": {
      "text/plain": [
       "0.6894257703081232"
      ]
     },
     "execution_count": 154,
     "metadata": {},
     "output_type": "execute_result"
    }
   ],
   "source": [
    "auc(fpr,tpr)"
   ]
  },
  {
   "cell_type": "code",
   "execution_count": 155,
   "metadata": {},
   "outputs": [
    {
     "name": "stdout",
     "output_type": "stream",
     "text": [
      "              precision    recall  f1-score   support\n",
      "\n",
      "           0       0.88      0.94      0.91       357\n",
      "           1       0.63      0.44      0.52        84\n",
      "\n",
      "    accuracy                           0.84       441\n",
      "   macro avg       0.75      0.69      0.71       441\n",
      "weighted avg       0.83      0.84      0.83       441\n",
      "\n"
     ]
    }
   ],
   "source": [
    "print(classification_report(y_test,xgb_pred_smote))"
   ]
  },
  {
   "cell_type": "code",
   "execution_count": 158,
   "metadata": {},
   "outputs": [],
   "source": [
    "## As again with SMOTEd data sets, the accuracy is high..but the recall is very low for cases where Attrition is 1....."
   ]
  },
  {
   "cell_type": "markdown",
   "metadata": {},
   "source": [
    "##### Selecting important features based on the Logistic Regression model ( that was built using the balanced data set)"
   ]
  },
  {
   "cell_type": "code",
   "execution_count": 188,
   "metadata": {},
   "outputs": [],
   "source": [
    "#We will select the important features from the Logistic regression model on the balanced data set..\n",
    "from sklearn.feature_selection import RFE"
   ]
  },
  {
   "cell_type": "code",
   "execution_count": 189,
   "metadata": {},
   "outputs": [],
   "source": [
    "rfe=RFE(estimator=LogisticRegression(C=10,penalty='l2'),n_features_to_select=10)"
   ]
  },
  {
   "cell_type": "code",
   "execution_count": 190,
   "metadata": {},
   "outputs": [],
   "source": [
    "rfe_fit=rfe.fit(hr_data[hr_data.columns.difference(['EmployeeNumber','Attrition'])],hr_data['Attrition'])"
   ]
  },
  {
   "cell_type": "code",
   "execution_count": 191,
   "metadata": {},
   "outputs": [
    {
     "data": {
      "text/plain": [
       "array(['BusinessTravel_Travel_Frequently', 'BusinessTravel_Travel_Rarely',\n",
       "       'JobRole_Healthcare Representative',\n",
       "       'JobRole_Laboratory Technician', 'JobRole_Manager',\n",
       "       'JobRole_Manufacturing Director', 'JobRole_Research Director',\n",
       "       'JobRole_Sales Representative', 'MaritalStatus_Single',\n",
       "       'OverTime_No'], dtype=object)"
      ]
     },
     "execution_count": 191,
     "metadata": {},
     "output_type": "execute_result"
    }
   ],
   "source": [
    "hr_data.columns.difference(['EmployeeNumber','Attrition'])[rfe_fit.support_].values\n"
   ]
  },
  {
   "cell_type": "markdown",
   "metadata": {},
   "source": [
    "### Conclusion  \n",
    "\n",
    "We saw that though the SMOTE data set had a higher accuracy , the balanced data set had better 'recall' statistics for the 1s..ie,where Attrition occurs. This is true for all the models.  \n",
    "\n",
    "LogisticRegression on the balanced data set had the best recall statistics (86%)"
   ]
  },
  {
   "cell_type": "code",
   "execution_count": null,
   "metadata": {},
   "outputs": [],
   "source": []
  }
 ],
 "metadata": {
  "kernelspec": {
   "display_name": "Python 3",
   "language": "python",
   "name": "python3"
  },
  "language_info": {
   "codemirror_mode": {
    "name": "ipython",
    "version": 3
   },
   "file_extension": ".py",
   "mimetype": "text/x-python",
   "name": "python",
   "nbconvert_exporter": "python",
   "pygments_lexer": "ipython3",
   "version": "3.6.5"
  }
 },
 "nbformat": 4,
 "nbformat_minor": 2
}
